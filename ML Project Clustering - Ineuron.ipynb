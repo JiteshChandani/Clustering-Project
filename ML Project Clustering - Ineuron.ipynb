{
 "cells": [
  {
   "cell_type": "code",
   "execution_count": 1,
   "metadata": {},
   "outputs": [],
   "source": [
    "import pandas as pd\n",
    "import numpy as np\n",
    "import matplotlib.pyplot as plt\n",
    "import seaborn as sns\n",
    "from numpy import vstack,array\n",
    "from numpy.random import rand\n",
    "from math import sqrt\n",
    "from sklearn.cluster import KMeans\n",
    "from sklearn.decomposition import PCA\n",
    "from sklearn.preprocessing import StandardScaler\n",
    "%matplotlib inline"
   ]
  },
  {
   "cell_type": "code",
   "execution_count": 2,
   "metadata": {},
   "outputs": [
    {
     "data": {
      "text/html": [
       "<div>\n",
       "<style scoped>\n",
       "    .dataframe tbody tr th:only-of-type {\n",
       "        vertical-align: middle;\n",
       "    }\n",
       "\n",
       "    .dataframe tbody tr th {\n",
       "        vertical-align: top;\n",
       "    }\n",
       "\n",
       "    .dataframe thead th {\n",
       "        text-align: right;\n",
       "    }\n",
       "</style>\n",
       "<table border=\"1\" class=\"dataframe\">\n",
       "  <thead>\n",
       "    <tr style=\"text-align: right;\">\n",
       "      <th></th>\n",
       "      <th>DATE</th>\n",
       "      <th>SP500</th>\n",
       "      <th>NASDAQ.AAL</th>\n",
       "      <th>NASDAQ.AAPL</th>\n",
       "      <th>NASDAQ.ADBE</th>\n",
       "      <th>NASDAQ.ADI</th>\n",
       "      <th>NASDAQ.ADP</th>\n",
       "      <th>NASDAQ.ADSK</th>\n",
       "      <th>NASDAQ.AKAM</th>\n",
       "      <th>NASDAQ.ALXN</th>\n",
       "      <th>...</th>\n",
       "      <th>NYSE.WYN</th>\n",
       "      <th>NYSE.XEC</th>\n",
       "      <th>NYSE.XEL</th>\n",
       "      <th>NYSE.XL</th>\n",
       "      <th>NYSE.XOM</th>\n",
       "      <th>NYSE.XRX</th>\n",
       "      <th>NYSE.XYL</th>\n",
       "      <th>NYSE.YUM</th>\n",
       "      <th>NYSE.ZBH</th>\n",
       "      <th>NYSE.ZTS</th>\n",
       "    </tr>\n",
       "  </thead>\n",
       "  <tbody>\n",
       "    <tr>\n",
       "      <th>0</th>\n",
       "      <td>1491226200</td>\n",
       "      <td>2363.6101</td>\n",
       "      <td>42.3300</td>\n",
       "      <td>143.6800</td>\n",
       "      <td>129.6300</td>\n",
       "      <td>82.040</td>\n",
       "      <td>102.2300</td>\n",
       "      <td>85.2200</td>\n",
       "      <td>59.760</td>\n",
       "      <td>121.52</td>\n",
       "      <td>...</td>\n",
       "      <td>84.370</td>\n",
       "      <td>119.035</td>\n",
       "      <td>44.40</td>\n",
       "      <td>39.88</td>\n",
       "      <td>82.03</td>\n",
       "      <td>7.36</td>\n",
       "      <td>50.22</td>\n",
       "      <td>63.86</td>\n",
       "      <td>122.000</td>\n",
       "      <td>53.350</td>\n",
       "    </tr>\n",
       "    <tr>\n",
       "      <th>1</th>\n",
       "      <td>1491226260</td>\n",
       "      <td>2364.1001</td>\n",
       "      <td>42.3600</td>\n",
       "      <td>143.7000</td>\n",
       "      <td>130.3200</td>\n",
       "      <td>82.080</td>\n",
       "      <td>102.1400</td>\n",
       "      <td>85.6500</td>\n",
       "      <td>59.840</td>\n",
       "      <td>121.48</td>\n",
       "      <td>...</td>\n",
       "      <td>84.370</td>\n",
       "      <td>119.035</td>\n",
       "      <td>44.11</td>\n",
       "      <td>39.88</td>\n",
       "      <td>82.03</td>\n",
       "      <td>7.38</td>\n",
       "      <td>50.22</td>\n",
       "      <td>63.74</td>\n",
       "      <td>121.770</td>\n",
       "      <td>53.350</td>\n",
       "    </tr>\n",
       "    <tr>\n",
       "      <th>2</th>\n",
       "      <td>1491226320</td>\n",
       "      <td>2362.6799</td>\n",
       "      <td>42.3100</td>\n",
       "      <td>143.6901</td>\n",
       "      <td>130.2250</td>\n",
       "      <td>82.030</td>\n",
       "      <td>102.2125</td>\n",
       "      <td>85.5100</td>\n",
       "      <td>59.795</td>\n",
       "      <td>121.93</td>\n",
       "      <td>...</td>\n",
       "      <td>84.585</td>\n",
       "      <td>119.260</td>\n",
       "      <td>44.09</td>\n",
       "      <td>39.98</td>\n",
       "      <td>82.02</td>\n",
       "      <td>7.36</td>\n",
       "      <td>50.12</td>\n",
       "      <td>63.75</td>\n",
       "      <td>121.700</td>\n",
       "      <td>53.365</td>\n",
       "    </tr>\n",
       "    <tr>\n",
       "      <th>3</th>\n",
       "      <td>1491226380</td>\n",
       "      <td>2364.3101</td>\n",
       "      <td>42.3700</td>\n",
       "      <td>143.6400</td>\n",
       "      <td>130.0729</td>\n",
       "      <td>82.000</td>\n",
       "      <td>102.1400</td>\n",
       "      <td>85.4872</td>\n",
       "      <td>59.620</td>\n",
       "      <td>121.44</td>\n",
       "      <td>...</td>\n",
       "      <td>84.460</td>\n",
       "      <td>119.260</td>\n",
       "      <td>44.25</td>\n",
       "      <td>39.99</td>\n",
       "      <td>82.02</td>\n",
       "      <td>7.35</td>\n",
       "      <td>50.16</td>\n",
       "      <td>63.88</td>\n",
       "      <td>121.700</td>\n",
       "      <td>53.380</td>\n",
       "    </tr>\n",
       "    <tr>\n",
       "      <th>4</th>\n",
       "      <td>1491226440</td>\n",
       "      <td>2364.8501</td>\n",
       "      <td>42.5378</td>\n",
       "      <td>143.6600</td>\n",
       "      <td>129.8800</td>\n",
       "      <td>82.035</td>\n",
       "      <td>102.0600</td>\n",
       "      <td>85.7001</td>\n",
       "      <td>59.620</td>\n",
       "      <td>121.60</td>\n",
       "      <td>...</td>\n",
       "      <td>84.470</td>\n",
       "      <td>119.610</td>\n",
       "      <td>44.11</td>\n",
       "      <td>39.96</td>\n",
       "      <td>82.03</td>\n",
       "      <td>7.36</td>\n",
       "      <td>50.20</td>\n",
       "      <td>63.91</td>\n",
       "      <td>121.695</td>\n",
       "      <td>53.240</td>\n",
       "    </tr>\n",
       "  </tbody>\n",
       "</table>\n",
       "<p>5 rows × 502 columns</p>\n",
       "</div>"
      ],
      "text/plain": [
       "         DATE      SP500  NASDAQ.AAL  NASDAQ.AAPL  NASDAQ.ADBE  NASDAQ.ADI  \\\n",
       "0  1491226200  2363.6101     42.3300     143.6800     129.6300      82.040   \n",
       "1  1491226260  2364.1001     42.3600     143.7000     130.3200      82.080   \n",
       "2  1491226320  2362.6799     42.3100     143.6901     130.2250      82.030   \n",
       "3  1491226380  2364.3101     42.3700     143.6400     130.0729      82.000   \n",
       "4  1491226440  2364.8501     42.5378     143.6600     129.8800      82.035   \n",
       "\n",
       "   NASDAQ.ADP  NASDAQ.ADSK  NASDAQ.AKAM  NASDAQ.ALXN  ...  NYSE.WYN  NYSE.XEC  \\\n",
       "0    102.2300      85.2200       59.760       121.52  ...    84.370   119.035   \n",
       "1    102.1400      85.6500       59.840       121.48  ...    84.370   119.035   \n",
       "2    102.2125      85.5100       59.795       121.93  ...    84.585   119.260   \n",
       "3    102.1400      85.4872       59.620       121.44  ...    84.460   119.260   \n",
       "4    102.0600      85.7001       59.620       121.60  ...    84.470   119.610   \n",
       "\n",
       "   NYSE.XEL  NYSE.XL  NYSE.XOM  NYSE.XRX  NYSE.XYL  NYSE.YUM  NYSE.ZBH  \\\n",
       "0     44.40    39.88     82.03      7.36     50.22     63.86   122.000   \n",
       "1     44.11    39.88     82.03      7.38     50.22     63.74   121.770   \n",
       "2     44.09    39.98     82.02      7.36     50.12     63.75   121.700   \n",
       "3     44.25    39.99     82.02      7.35     50.16     63.88   121.700   \n",
       "4     44.11    39.96     82.03      7.36     50.20     63.91   121.695   \n",
       "\n",
       "   NYSE.ZTS  \n",
       "0    53.350  \n",
       "1    53.350  \n",
       "2    53.365  \n",
       "3    53.380  \n",
       "4    53.240  \n",
       "\n",
       "[5 rows x 502 columns]"
      ]
     },
     "execution_count": 2,
     "metadata": {},
     "output_type": "execute_result"
    }
   ],
   "source": [
    "df = pd.read_csv(\"C:/Users/Jitesh Chandani/Desktop/data_stocks.csv\")\n",
    "df.head()"
   ]
  },
  {
   "cell_type": "code",
   "execution_count": 3,
   "metadata": {},
   "outputs": [
    {
     "data": {
      "text/html": [
       "<div>\n",
       "<style scoped>\n",
       "    .dataframe tbody tr th:only-of-type {\n",
       "        vertical-align: middle;\n",
       "    }\n",
       "\n",
       "    .dataframe tbody tr th {\n",
       "        vertical-align: top;\n",
       "    }\n",
       "\n",
       "    .dataframe thead th {\n",
       "        text-align: right;\n",
       "    }\n",
       "</style>\n",
       "<table border=\"1\" class=\"dataframe\">\n",
       "  <thead>\n",
       "    <tr style=\"text-align: right;\">\n",
       "      <th></th>\n",
       "      <th>DATE</th>\n",
       "      <th>SP500</th>\n",
       "      <th>NASDAQ.AAL</th>\n",
       "      <th>NASDAQ.AAPL</th>\n",
       "      <th>NASDAQ.ADBE</th>\n",
       "      <th>NASDAQ.ADI</th>\n",
       "      <th>NASDAQ.ADP</th>\n",
       "      <th>NASDAQ.ADSK</th>\n",
       "      <th>NASDAQ.AKAM</th>\n",
       "      <th>NASDAQ.ALXN</th>\n",
       "      <th>...</th>\n",
       "      <th>NYSE.WYN</th>\n",
       "      <th>NYSE.XEC</th>\n",
       "      <th>NYSE.XEL</th>\n",
       "      <th>NYSE.XL</th>\n",
       "      <th>NYSE.XOM</th>\n",
       "      <th>NYSE.XRX</th>\n",
       "      <th>NYSE.XYL</th>\n",
       "      <th>NYSE.YUM</th>\n",
       "      <th>NYSE.ZBH</th>\n",
       "      <th>NYSE.ZTS</th>\n",
       "    </tr>\n",
       "  </thead>\n",
       "  <tbody>\n",
       "    <tr>\n",
       "      <th>count</th>\n",
       "      <td>4.126600e+04</td>\n",
       "      <td>41266.000000</td>\n",
       "      <td>41266.000000</td>\n",
       "      <td>41266.000000</td>\n",
       "      <td>41266.00000</td>\n",
       "      <td>41266.000000</td>\n",
       "      <td>41266.000000</td>\n",
       "      <td>41266.000000</td>\n",
       "      <td>41266.000000</td>\n",
       "      <td>41266.000000</td>\n",
       "      <td>...</td>\n",
       "      <td>41266.000000</td>\n",
       "      <td>41266.000000</td>\n",
       "      <td>41266.000000</td>\n",
       "      <td>41266.000000</td>\n",
       "      <td>41266.000000</td>\n",
       "      <td>41266.000000</td>\n",
       "      <td>41266.000000</td>\n",
       "      <td>41266.000000</td>\n",
       "      <td>41266.000000</td>\n",
       "      <td>41266.000000</td>\n",
       "    </tr>\n",
       "    <tr>\n",
       "      <th>mean</th>\n",
       "      <td>1.497749e+09</td>\n",
       "      <td>2421.537882</td>\n",
       "      <td>47.708346</td>\n",
       "      <td>150.453566</td>\n",
       "      <td>141.31793</td>\n",
       "      <td>79.446873</td>\n",
       "      <td>103.480398</td>\n",
       "      <td>102.998608</td>\n",
       "      <td>50.894352</td>\n",
       "      <td>122.981163</td>\n",
       "      <td>...</td>\n",
       "      <td>97.942211</td>\n",
       "      <td>104.740666</td>\n",
       "      <td>46.664402</td>\n",
       "      <td>43.043984</td>\n",
       "      <td>80.784595</td>\n",
       "      <td>19.300718</td>\n",
       "      <td>54.541988</td>\n",
       "      <td>71.757891</td>\n",
       "      <td>121.423515</td>\n",
       "      <td>60.183874</td>\n",
       "    </tr>\n",
       "    <tr>\n",
       "      <th>std</th>\n",
       "      <td>3.822211e+06</td>\n",
       "      <td>39.557135</td>\n",
       "      <td>3.259377</td>\n",
       "      <td>6.236826</td>\n",
       "      <td>6.91674</td>\n",
       "      <td>2.000283</td>\n",
       "      <td>4.424244</td>\n",
       "      <td>9.389788</td>\n",
       "      <td>4.833931</td>\n",
       "      <td>11.252010</td>\n",
       "      <td>...</td>\n",
       "      <td>5.411795</td>\n",
       "      <td>10.606694</td>\n",
       "      <td>1.508444</td>\n",
       "      <td>1.714533</td>\n",
       "      <td>1.840989</td>\n",
       "      <td>11.686532</td>\n",
       "      <td>3.526321</td>\n",
       "      <td>4.038272</td>\n",
       "      <td>5.607070</td>\n",
       "      <td>3.346887</td>\n",
       "    </tr>\n",
       "    <tr>\n",
       "      <th>min</th>\n",
       "      <td>1.491226e+09</td>\n",
       "      <td>2329.139900</td>\n",
       "      <td>40.830000</td>\n",
       "      <td>140.160000</td>\n",
       "      <td>128.24000</td>\n",
       "      <td>74.800000</td>\n",
       "      <td>95.870000</td>\n",
       "      <td>83.000000</td>\n",
       "      <td>44.650000</td>\n",
       "      <td>96.250000</td>\n",
       "      <td>...</td>\n",
       "      <td>83.410000</td>\n",
       "      <td>89.510000</td>\n",
       "      <td>44.090000</td>\n",
       "      <td>39.120000</td>\n",
       "      <td>76.060000</td>\n",
       "      <td>6.660000</td>\n",
       "      <td>48.820000</td>\n",
       "      <td>63.180000</td>\n",
       "      <td>110.120000</td>\n",
       "      <td>52.300000</td>\n",
       "    </tr>\n",
       "    <tr>\n",
       "      <th>25%</th>\n",
       "      <td>1.494432e+09</td>\n",
       "      <td>2390.860100</td>\n",
       "      <td>44.945400</td>\n",
       "      <td>144.640000</td>\n",
       "      <td>135.19500</td>\n",
       "      <td>78.030000</td>\n",
       "      <td>101.300000</td>\n",
       "      <td>94.820000</td>\n",
       "      <td>47.440000</td>\n",
       "      <td>116.950000</td>\n",
       "      <td>...</td>\n",
       "      <td>95.960000</td>\n",
       "      <td>95.010000</td>\n",
       "      <td>45.155000</td>\n",
       "      <td>41.955000</td>\n",
       "      <td>80.220000</td>\n",
       "      <td>7.045000</td>\n",
       "      <td>51.630000</td>\n",
       "      <td>69.110000</td>\n",
       "      <td>117.580000</td>\n",
       "      <td>59.620000</td>\n",
       "    </tr>\n",
       "    <tr>\n",
       "      <th>50%</th>\n",
       "      <td>1.497638e+09</td>\n",
       "      <td>2430.149900</td>\n",
       "      <td>48.360000</td>\n",
       "      <td>149.945000</td>\n",
       "      <td>142.26000</td>\n",
       "      <td>79.410000</td>\n",
       "      <td>102.440000</td>\n",
       "      <td>106.820000</td>\n",
       "      <td>49.509900</td>\n",
       "      <td>123.620000</td>\n",
       "      <td>...</td>\n",
       "      <td>99.250000</td>\n",
       "      <td>99.660000</td>\n",
       "      <td>46.810000</td>\n",
       "      <td>43.200000</td>\n",
       "      <td>81.150000</td>\n",
       "      <td>27.890000</td>\n",
       "      <td>53.850000</td>\n",
       "      <td>73.470000</td>\n",
       "      <td>120.650000</td>\n",
       "      <td>61.585600</td>\n",
       "    </tr>\n",
       "    <tr>\n",
       "      <th>75%</th>\n",
       "      <td>1.501090e+09</td>\n",
       "      <td>2448.820100</td>\n",
       "      <td>50.180000</td>\n",
       "      <td>155.065000</td>\n",
       "      <td>147.10000</td>\n",
       "      <td>80.580000</td>\n",
       "      <td>104.660000</td>\n",
       "      <td>110.490000</td>\n",
       "      <td>52.230000</td>\n",
       "      <td>132.218800</td>\n",
       "      <td>...</td>\n",
       "      <td>102.080000</td>\n",
       "      <td>117.034700</td>\n",
       "      <td>47.730000</td>\n",
       "      <td>44.370000</td>\n",
       "      <td>82.062050</td>\n",
       "      <td>30.470000</td>\n",
       "      <td>57.140000</td>\n",
       "      <td>74.750000</td>\n",
       "      <td>126.000000</td>\n",
       "      <td>62.540000</td>\n",
       "    </tr>\n",
       "    <tr>\n",
       "      <th>max</th>\n",
       "      <td>1.504210e+09</td>\n",
       "      <td>2490.649900</td>\n",
       "      <td>54.475000</td>\n",
       "      <td>164.510000</td>\n",
       "      <td>155.33000</td>\n",
       "      <td>90.440000</td>\n",
       "      <td>121.770000</td>\n",
       "      <td>119.270000</td>\n",
       "      <td>62.560000</td>\n",
       "      <td>142.875000</td>\n",
       "      <td>...</td>\n",
       "      <td>106.375000</td>\n",
       "      <td>123.870000</td>\n",
       "      <td>49.660000</td>\n",
       "      <td>47.210000</td>\n",
       "      <td>83.630000</td>\n",
       "      <td>32.930000</td>\n",
       "      <td>62.130000</td>\n",
       "      <td>77.120000</td>\n",
       "      <td>133.450000</td>\n",
       "      <td>63.840000</td>\n",
       "    </tr>\n",
       "  </tbody>\n",
       "</table>\n",
       "<p>8 rows × 502 columns</p>\n",
       "</div>"
      ],
      "text/plain": [
       "               DATE         SP500    NASDAQ.AAL   NASDAQ.AAPL  NASDAQ.ADBE  \\\n",
       "count  4.126600e+04  41266.000000  41266.000000  41266.000000  41266.00000   \n",
       "mean   1.497749e+09   2421.537882     47.708346    150.453566    141.31793   \n",
       "std    3.822211e+06     39.557135      3.259377      6.236826      6.91674   \n",
       "min    1.491226e+09   2329.139900     40.830000    140.160000    128.24000   \n",
       "25%    1.494432e+09   2390.860100     44.945400    144.640000    135.19500   \n",
       "50%    1.497638e+09   2430.149900     48.360000    149.945000    142.26000   \n",
       "75%    1.501090e+09   2448.820100     50.180000    155.065000    147.10000   \n",
       "max    1.504210e+09   2490.649900     54.475000    164.510000    155.33000   \n",
       "\n",
       "         NASDAQ.ADI    NASDAQ.ADP   NASDAQ.ADSK   NASDAQ.AKAM   NASDAQ.ALXN  \\\n",
       "count  41266.000000  41266.000000  41266.000000  41266.000000  41266.000000   \n",
       "mean      79.446873    103.480398    102.998608     50.894352    122.981163   \n",
       "std        2.000283      4.424244      9.389788      4.833931     11.252010   \n",
       "min       74.800000     95.870000     83.000000     44.650000     96.250000   \n",
       "25%       78.030000    101.300000     94.820000     47.440000    116.950000   \n",
       "50%       79.410000    102.440000    106.820000     49.509900    123.620000   \n",
       "75%       80.580000    104.660000    110.490000     52.230000    132.218800   \n",
       "max       90.440000    121.770000    119.270000     62.560000    142.875000   \n",
       "\n",
       "       ...      NYSE.WYN      NYSE.XEC      NYSE.XEL       NYSE.XL  \\\n",
       "count  ...  41266.000000  41266.000000  41266.000000  41266.000000   \n",
       "mean   ...     97.942211    104.740666     46.664402     43.043984   \n",
       "std    ...      5.411795     10.606694      1.508444      1.714533   \n",
       "min    ...     83.410000     89.510000     44.090000     39.120000   \n",
       "25%    ...     95.960000     95.010000     45.155000     41.955000   \n",
       "50%    ...     99.250000     99.660000     46.810000     43.200000   \n",
       "75%    ...    102.080000    117.034700     47.730000     44.370000   \n",
       "max    ...    106.375000    123.870000     49.660000     47.210000   \n",
       "\n",
       "           NYSE.XOM      NYSE.XRX      NYSE.XYL      NYSE.YUM      NYSE.ZBH  \\\n",
       "count  41266.000000  41266.000000  41266.000000  41266.000000  41266.000000   \n",
       "mean      80.784595     19.300718     54.541988     71.757891    121.423515   \n",
       "std        1.840989     11.686532      3.526321      4.038272      5.607070   \n",
       "min       76.060000      6.660000     48.820000     63.180000    110.120000   \n",
       "25%       80.220000      7.045000     51.630000     69.110000    117.580000   \n",
       "50%       81.150000     27.890000     53.850000     73.470000    120.650000   \n",
       "75%       82.062050     30.470000     57.140000     74.750000    126.000000   \n",
       "max       83.630000     32.930000     62.130000     77.120000    133.450000   \n",
       "\n",
       "           NYSE.ZTS  \n",
       "count  41266.000000  \n",
       "mean      60.183874  \n",
       "std        3.346887  \n",
       "min       52.300000  \n",
       "25%       59.620000  \n",
       "50%       61.585600  \n",
       "75%       62.540000  \n",
       "max       63.840000  \n",
       "\n",
       "[8 rows x 502 columns]"
      ]
     },
     "execution_count": 3,
     "metadata": {},
     "output_type": "execute_result"
    }
   ],
   "source": [
    "df.describe()"
   ]
  },
  {
   "cell_type": "code",
   "execution_count": 4,
   "metadata": {},
   "outputs": [
    {
     "data": {
      "text/plain": [
       "DATE             int64\n",
       "SP500          float64\n",
       "NASDAQ.AAL     float64\n",
       "NASDAQ.AAPL    float64\n",
       "NASDAQ.ADBE    float64\n",
       "                ...   \n",
       "NYSE.XRX       float64\n",
       "NYSE.XYL       float64\n",
       "NYSE.YUM       float64\n",
       "NYSE.ZBH       float64\n",
       "NYSE.ZTS       float64\n",
       "Length: 502, dtype: object"
      ]
     },
     "execution_count": 4,
     "metadata": {},
     "output_type": "execute_result"
    }
   ],
   "source": [
    "df.dtypes"
   ]
  },
  {
   "cell_type": "markdown",
   "metadata": {},
   "source": [
    "# Exercise 1\n",
    "\n",
    "There are various stocks for which we have collected a data set, which all stocks are apparently similar in performance"
   ]
  },
  {
   "cell_type": "code",
   "execution_count": 5,
   "metadata": {},
   "outputs": [],
   "source": [
    "df.drop([\"DATE\", \"SP500\"], axis=1, inplace=True)"
   ]
  },
  {
   "cell_type": "code",
   "execution_count": 6,
   "metadata": {},
   "outputs": [
    {
     "name": "stdout",
     "output_type": "stream",
     "text": [
      "Shape of Scaled features : \n",
      "(41266, 500)\n"
     ]
    }
   ],
   "source": [
    "from sklearn.preprocessing import StandardScaler \n",
    "features = df.values \n",
    "sc = StandardScaler() \n",
    "X_scaled = sc.fit_transform(features) \n",
    "print('Shape of Scaled features : ') \n",
    "print(X_scaled.shape)"
   ]
  },
  {
   "cell_type": "code",
   "execution_count": 7,
   "metadata": {},
   "outputs": [
    {
     "data": {
      "image/png": "[encoded data removed]",
      "text/plain": [
       "<Figure size 432x288 with 1 Axes>"
      ]
     },
     "metadata": {},
     "output_type": "display_data"
    }
   ],
   "source": [
    "# Determining optimal number of components for PCA looking at the explained variance as a function of the components\n",
    "sns.set() \n",
    "sns.set_style('whitegrid') \n",
    "pca = PCA().fit(X_scaled)\n",
    "plt.plot(np.cumsum(pca.explained_variance_ratio_)) \n",
    "plt.xlabel('number of components')\n",
    "plt.ylabel('cumulative explained variance') \n",
    "plt.show()"
   ]
  },
  {
   "cell_type": "code",
   "execution_count": 8,
   "metadata": {},
   "outputs": [
    {
     "name": "stdout",
     "output_type": "stream",
     "text": [
      "explained variance :\n",
      "************************************************************\n",
      "[235.15857127  86.16396277]\n",
      "************************************************************\n",
      "PCA Components : \n",
      "************************************************************\n",
      "[[-0.03925756 -0.04106421 -0.0629084  -0.00978759 -0.03586574 -0.05466784\n",
      "   0.05035595 -0.03539554 -0.04405989 -0.01467085 -0.04584359 -0.04662171\n",
      "  -0.06222525 -0.05803802  0.06133018 -0.03652043 -0.02313099 -0.06308071\n",
      "  -0.04272566 -0.03743331  0.05052145 -0.0481468  -0.0502328  -0.04129622\n",
      "  -0.05166053  0.04501948  0.04493425 -0.01594781 -0.05427409 -0.06234338\n",
      "   0.0503649   0.05412417  0.0553185   0.0147627   0.03491696 -0.05851211\n",
      "  -0.0466687  -0.0576979   0.02351488 -0.05959721 -0.02458482 -0.05492053\n",
      "   0.05005135 -0.05956379  0.05549381 -0.05149528 -0.04974669 -0.02670091\n",
      "   0.04359891  0.04241403 -0.04817542 -0.03865677 -0.03657459 -0.02771201\n",
      "   0.03561484 -0.02026983 -0.01418489  0.02481032 -0.02028702  0.00624182\n",
      "  -0.03048929  0.00261399  0.02620826  0.02958974 -0.05220683 -0.0620936\n",
      "  -0.0327136   0.04786472  0.02845714 -0.06169909 -0.05129278 -0.03813988\n",
      "   0.05744955 -0.05064443  0.02907422 -0.06222386 -0.06023427 -0.03863519\n",
      "   0.03524191  0.00854438 -0.05355798 -0.04881766 -0.0145421  -0.01762425\n",
      "  -0.06199022 -0.050462   -0.05102645  0.05710742  0.03418447  0.01902964\n",
      "  -0.00739393 -0.03819972  0.03395859 -0.06426446  0.01753762  0.00682694\n",
      "  -0.05437289  0.05481069  0.03716927 -0.02909561 -0.05510789 -0.03119722\n",
      "   0.05573598  0.05926528 -0.02108317  0.03081731  0.03440015 -0.05777286\n",
      "   0.04993779 -0.02040556  0.04397127  0.05617114 -0.03189388 -0.06104876\n",
      "  -0.05817997  0.03718255 -0.01396031 -0.0555924  -0.05889099 -0.05326677\n",
      "  -0.0352875   0.03027564 -0.05454888 -0.06056254  0.0594218  -0.05791808\n",
      "   0.00235881 -0.06071347 -0.06172     0.04554061  0.02649092 -0.04349697\n",
      "  -0.04650973  0.01136248 -0.06339631 -0.06064079 -0.00572171 -0.03419462\n",
      "  -0.02378343 -0.03757303 -0.05441845 -0.04498357  0.02004278 -0.06227741\n",
      "  -0.0417056  -0.05785283 -0.04914164 -0.04449622 -0.06146842 -0.00532281\n",
      "  -0.06048275 -0.06351688  0.05029336  0.06224534 -0.05098452 -0.06017576\n",
      "  -0.0585247   0.03504239 -0.01308331 -0.06199472 -0.04111955 -0.0579579\n",
      "  -0.02967667  0.06112678 -0.05888849 -0.03491141 -0.06052909 -0.04788565\n",
      "  -0.0536783  -0.05248846 -0.0602577  -0.03639549 -0.02358803  0.05789976\n",
      "  -0.05896466 -0.05836042  0.0521499  -0.04578014 -0.05592714 -0.04442632\n",
      "  -0.05644551  0.04876301 -0.06108483  0.05695023  0.02924376 -0.06202372\n",
      "  -0.05572737 -0.046878    0.01294994 -0.04872284 -0.06386289 -0.03371088\n",
      "   0.01311405 -0.02357504  0.05911828 -0.06419626  0.0180903  -0.01776768\n",
      "  -0.03472033  0.05563298 -0.03793939 -0.04804051 -0.0611933  -0.03088245\n",
      "  -0.00803934 -0.01883823 -0.03400208 -0.05337976 -0.06142527  0.05674904\n",
      "  -0.0194592   0.05050248 -0.05273085 -0.05883545  0.04438795  0.01144803\n",
      "  -0.00372889  0.04440931 -0.00260129 -0.03398169 -0.04616887 -0.04918772\n",
      "   0.03927057 -0.03799601 -0.04256041 -0.05272156  0.03428308  0.05409364\n",
      "  -0.05938137 -0.02995944 -0.04619868 -0.04041128  0.0421191  -0.00515121\n",
      "  -0.04721941 -0.05077042  0.05115766  0.05942959 -0.04332158 -0.05067149\n",
      "  -0.05331953 -0.05152056  0.01189009 -0.06117699 -0.05514376 -0.00911124\n",
      "   0.04381943 -0.05509577 -0.00781983 -0.04603619 -0.0569465   0.0095327\n",
      "  -0.0211487   0.01905619 -0.0499678  -0.05106502 -0.00446001  0.01917998\n",
      "  -0.03357071 -0.03293308 -0.05286697 -0.026549   -0.06223074  0.06036164\n",
      "   0.05823712  0.0523696  -0.05118367  0.02210917  0.06073577 -0.05801386\n",
      "  -0.05012609  0.06077819  0.02244049  0.03563632 -0.03869804 -0.0481375\n",
      "   0.04824096 -0.05912619  0.03018695 -0.00487522  0.0560868   0.05939537\n",
      "  -0.05481547  0.03908681 -0.0085897   0.02728477  0.00269551  0.05567733\n",
      "  -0.06206136  0.0587658  -0.0612315   0.05966153  0.03421136 -0.019918\n",
      "  -0.05807452  0.03578079 -0.05096948  0.0150907   0.02156093 -0.06023108\n",
      "   0.05717012 -0.05600764 -0.00531562 -0.04070701  0.04091002 -0.02260252\n",
      "  -0.0243573  -0.0515826  -0.03348772 -0.04653435  0.0224147   0.02984084\n",
      "  -0.05631738  0.02037314 -0.04774754 -0.00407866  0.04276616 -0.0103091\n",
      "   0.02874396  0.05095026  0.04166788 -0.05635909 -0.0576537  -0.01947617\n",
      "   0.05487347 -0.00544746 -0.06156401 -0.03887859  0.03660827  0.03372553\n",
      "  -0.03854343 -0.05187302 -0.04974918  0.01270883 -0.05981246 -0.04714237\n",
      "  -0.04521127  0.05521727  0.00883508 -0.00311482  0.03150715 -0.01737518\n",
      "   0.05528651 -0.06351571 -0.03296611  0.0539194  -0.04411537 -0.06183838\n",
      "  -0.03524378 -0.05935882 -0.02260622  0.00963252 -0.06017345  0.03459827\n",
      "   0.02323691 -0.0552467  -0.04990833 -0.01720388  0.02564427 -0.04037356\n",
      "   0.05350806 -0.03783893  0.00354651  0.06107636 -0.05566962 -0.04820182\n",
      "  -0.0241851   0.01665175  0.06085731 -0.06271011 -0.03545932  0.06291774\n",
      "  -0.06056944 -0.02310291  0.01474004 -0.06381688  0.05503939 -0.04691446\n",
      "  -0.02462464  0.03436259 -0.02847308  0.02456076  0.00744258  0.05083157\n",
      "  -0.05426738  0.03804703 -0.03316039 -0.02066258 -0.04943388  0.01216198\n",
      "  -0.03342777 -0.03130745 -0.06386022 -0.02042612 -0.05161035 -0.05314918\n",
      "  -0.06163039 -0.03345884 -0.05572281  0.01354621 -0.04501304  0.008977\n",
      "  -0.02607065 -0.04076168 -0.01445326  0.05350351 -0.05375652 -0.05876497\n",
      "   0.0050511  -0.04903235  0.05765255 -0.03497408 -0.06067312  0.00125517\n",
      "  -0.03000833  0.01360092 -0.05977445  0.058068   -0.04888998 -0.00571426\n",
      "  -0.05452153 -0.05898331  0.06229853 -0.05264386 -0.06115861  0.02883409\n",
      "  -0.0372492  -0.03629724 -0.03962164  0.03355965  0.04500111  0.06100992\n",
      "   0.04663874  0.05606981  0.03440726  0.04009448 -0.06359616 -0.04344299\n",
      "  -0.02291535 -0.06208863 -0.06154702 -0.04707038  0.01362523 -0.05703455\n",
      "   0.02142049  0.04620191  0.04500431 -0.05990199 -0.055695   -0.00391615\n",
      "   0.01171337  0.05559393 -0.04278097 -0.05495528 -0.05290194 -0.0122348\n",
      "  -0.06276184 -0.06019902 -0.04809978 -0.04151046  0.02419098  0.02059418\n",
      "   0.01769457 -0.05024341  0.04308262 -0.06391703 -0.0453269   0.0327745\n",
      "  -0.0569498   0.00927391 -0.04126587 -0.02363625 -0.06127539 -0.05022651\n",
      "  -0.05025105 -0.03372497  0.01047469  0.05663643 -0.03100145  0.007577\n",
      "  -0.04871332 -0.05173731  0.01441979 -0.01006171 -0.05122106 -0.00177408\n",
      "  -0.04538174 -0.05135822  0.03243285  0.04421649 -0.04941269  0.05700106\n",
      "  -0.0546228  -0.05060826  0.04719918 -0.05789707 -0.06139173 -0.06247664\n",
      "   0.00253829 -0.05169773]\n",
      " [-0.06428354  0.033861    0.00186129 -0.03245309  0.0435106  -0.02951916\n",
      "   0.01617827  0.05828623 -0.05266654  0.0123757   0.00827626 -0.0598194\n",
      "  -0.01406726 -0.02258981  0.00284319  0.06009316 -0.03970369  0.01885892\n",
      "   0.02487587 -0.07156348  0.03930218  0.06412556  0.05626363 -0.02264259\n",
      "   0.00525295 -0.02394074  0.01710281 -0.09184074  0.0295787  -0.01438015\n",
      "  -0.03997247 -0.02116944 -0.02508988 -0.08304595  0.04205963 -0.01703788\n",
      "  -0.02089605  0.00094164  0.018599    0.02219201  0.00962969 -0.04711003\n",
      "   0.02007152  0.0281052  -0.02569496 -0.04846874  0.03609081  0.01948987\n",
      "   0.04455028  0.04737281  0.04660152 -0.06977244 -0.07252376 -0.02872969\n",
      "  -0.05410625 -0.09199984 -0.0350298  -0.08617386 -0.09483477 -0.08931097\n",
      "   0.0590135   0.00397356  0.02529011  0.03248575 -0.04207385 -0.02001577\n",
      "   0.0648452  -0.02607272 -0.0675877  -0.00243471 -0.02262012 -0.06187008\n",
      "  -0.02812681 -0.02277523 -0.05974897  0.00576209 -0.00565924 -0.05643149\n",
      "  -0.07506902 -0.06474716  0.05080251  0.00886767  0.00834531 -0.06631486\n",
      "  -0.01879445 -0.0260643  -0.02410347  0.00310618 -0.05676331 -0.01453617\n",
      "   0.01518121 -0.03170796 -0.08092778 -0.00010695 -0.0803592  -0.01745035\n",
      "  -0.05032838  0.00577399 -0.0751435   0.08942597  0.02635933  0.05725945\n",
      "  -0.02123412 -0.03001147 -0.02572361  0.00464591  0.04609483  0.03973743\n",
      "   0.05681277  0.01479779 -0.06708156  0.00626313 -0.03368323  0.02352835\n",
      "   0.02931158  0.03979085 -0.07015615 -0.00742458 -0.03095718 -0.04251758\n",
      "  -0.07351514 -0.07835006  0.01585267 -0.02163774 -0.016369   -0.01829571\n",
      "  -0.09156721 -0.00517123 -0.00158851  0.04903952 -0.06029644  0.04768887\n",
      "  -0.00256036 -0.04527934 -0.02117023  0.02081078 -0.01740483 -0.05439556\n",
      "   0.07697437 -0.05281811  0.00902359 -0.00030496 -0.06616863  0.00734181\n",
      "  -0.05463023 -0.02639387  0.03580239  0.05729946  0.01848379  0.00824738\n",
      "  -0.02786271 -0.0123133  -0.03406074  0.01885859 -0.03127315  0.01455056\n",
      "  -0.01916612 -0.01053739 -0.06741285  0.0115166   0.03135897  0.01626633\n",
      "  -0.00640621  0.00796272  0.04125474  0.00846452 -0.03057614  0.04407034\n",
      "  -0.00684565 -0.04038804 -0.0024601  -0.0532428  -0.02503641 -0.02304538\n",
      "   0.01599678 -0.02971745  0.02813598  0.03440914  0.04605052 -0.07414044\n",
      "  -0.00084421  0.03303918  0.00300232 -0.01207944 -0.04991427  0.01278873\n",
      "  -0.02584972 -0.02278775  0.07287222  0.00362509 -0.00652137  0.04331132\n",
      "  -0.05467373 -0.07553568 -0.01697146  0.00270889 -0.06904069  0.00456368\n",
      "  -0.04807017 -0.04843306 -0.06677029  0.00171508  0.00214947  0.05414253\n",
      "   0.04478318  0.05122156 -0.07207993  0.04908913 -0.02408762  0.02932746\n",
      "  -0.04034894 -0.0120976   0.00317579 -0.0291215  -0.06107504 -0.00958272\n",
      "   0.07069709 -0.02436509 -0.01437745 -0.08177351 -0.01241712 -0.0469815\n",
      "   0.03651662  0.01999989 -0.06679411  0.02109165 -0.04846232  0.01350259\n",
      "  -0.00829575 -0.02708059  0.02493945 -0.00882423  0.02471797 -0.09842081\n",
      "  -0.00592708 -0.0017981  -0.04545166  0.03159426  0.05012393 -0.05106027\n",
      "  -0.01572941  0.01920242  0.01503173  0.00693765 -0.00381438 -0.02040871\n",
      "   0.00083218 -0.00950158  0.06883871 -0.00245071 -0.0314506  -0.08582812\n",
      "  -0.01559176 -0.05605395 -0.06015001  0.03253511  0.01901702 -0.04151012\n",
      "  -0.05628694  0.08258903 -0.03080313  0.08786841  0.01356669  0.00017579\n",
      "  -0.02009155 -0.0545243   0.05299494  0.0639064   0.00810779  0.00365942\n",
      "  -0.05362452 -0.02141498 -0.062465    0.02419181 -0.07229868  0.01475711\n",
      "  -0.04807708 -0.01701752  0.03795429  0.02853668  0.02070095 -0.01473692\n",
      "   0.03001079 -0.04829491 -0.06037342 -0.06639255 -0.05680739 -0.01635056\n",
      "   0.01893125 -0.01480311 -0.01500706 -0.00602112  0.03355008  0.03630357\n",
      "  -0.02368608 -0.01549409  0.05581867 -0.01978701 -0.05356176  0.00554888\n",
      "  -0.00390925 -0.00754729 -0.00828519 -0.05941073 -0.0720407  -0.08966165\n",
      "   0.08860804 -0.04479043 -0.08311934 -0.05185905 -0.0776036  -0.02410137\n",
      "  -0.02604413 -0.0603193   0.02789671  0.00176367 -0.00523775 -0.06185594\n",
      "   0.07971629 -0.03945995  0.04522844 -0.01336306 -0.01671865  0.08362215\n",
      "  -0.0034727   0.04655876 -0.01246614  0.02306091 -0.07453268 -0.08032519\n",
      "  -0.02158468  0.03206552  0.05505372 -0.00103196  0.03546754  0.00948785\n",
      "   0.0140818  -0.00989861 -0.02711705 -0.1014313  -0.07264577  0.08584815\n",
      "   0.02154658  0.01009527 -0.00278811  0.01157698 -0.06786681 -0.02354877\n",
      "  -0.07391431  0.0295034  -0.0906693  -0.06460768  0.00506978 -0.04649211\n",
      "  -0.08477042 -0.04182334 -0.05652284  0.04807374 -0.08926902 -0.04856656\n",
      "   0.00736903 -0.04697539 -0.06327261  0.02047666  0.00750217  0.00246183\n",
      "  -0.06651784  0.0918038  -0.00972055  0.00783529  0.06894847  0.00261459\n",
      "  -0.00128488  0.02890271  0.07316835  0.00377512  0.00597018  0.06054096\n",
      "  -0.05224556 -0.03001251 -0.08373845  0.07027304  0.06209077 -0.04752316\n",
      "  -0.0031776   0.03923195  0.04199143  0.07730018 -0.0196275   0.04135592\n",
      "  -0.0174837   0.07603465  0.01264957 -0.01385728  0.03539737 -0.05179544\n",
      "   0.02227423 -0.06558408  0.02190992 -0.09594407  0.01823255 -0.08741922\n",
      "  -0.03131742 -0.00386292 -0.0311778   0.00157003  0.02315963  0.03844789\n",
      "   0.0833738  -0.06363154 -0.03021872 -0.04391785  0.0030399   0.0821031\n",
      "   0.00214414 -0.08626313  0.01997369  0.04061824 -0.00281127  0.09319009\n",
      "  -0.0271794  -0.04195104 -0.01364802 -0.00234341  0.02929309 -0.07412174\n",
      "  -0.03827861 -0.04307172 -0.07651177  0.03513381 -0.01673846  0.01630713\n",
      "  -0.02809112 -0.01757926 -0.02575958  0.04445402 -0.01450945  0.02085225\n",
      "   0.01359264  0.00364599 -0.00015775 -0.05219375  0.06251295 -0.02398887\n",
      "  -0.02168843  0.04207049  0.03719952 -0.02530204 -0.03865931  0.03979254\n",
      "  -0.02017873  0.01759107  0.02392051 -0.0443871  -0.01525958  0.07125796\n",
      "   0.0063268   0.01861442  0.04287587  0.02052571 -0.08275674 -0.08033057\n",
      "  -0.09798127 -0.04456015 -0.04074755  0.00899071  0.04349905 -0.06406551\n",
      "   0.02169579  0.04945736 -0.00917896 -0.08884872  0.02712832 -0.05463535\n",
      "   0.06076901  0.02203078 -0.09495533 -0.03693086 -0.05095367  0.08623244\n",
      "  -0.06100849  0.01911038 -0.03365575 -0.09829738  0.04329621  0.01645857\n",
      "   0.01021593 -0.04548409  0.03870608 -0.02202385 -0.05894096  0.03027747\n",
      "   0.01364307 -0.04076931 -0.05279476  0.0102384   0.03146564 -0.02040637\n",
      "  -0.08122924 -0.05950068]]\n",
      "************************************************************\n",
      "Transformed Feature values first five rows :\n",
      "************************************************************\n",
      "[[25.55018064 10.00580482]\n",
      " [25.64880185  9.89282687]\n",
      " [25.56345929  9.82533675]\n",
      " [25.66861205  9.99439559]\n",
      " [25.58060169  9.87829381]]\n",
      "************************************************************\n",
      "Transformed Feature shape :\n",
      "************************************************************\n",
      "(41266, 2)\n",
      "************************************************************\n",
      "Original Feature shape :\n",
      "************************************************************\n",
      "(41266, 500)\n",
      "************************************************************\n",
      "Restransformed Feature shape :\n",
      "************************************************************\n"
     ]
    },
    {
     "name": "stdout",
     "output_type": "stream",
     "text": [
      "(41266, 500)\n",
      "************************************************************\n",
      "Retransformed Feature values first five rows :\n",
      "************************************************************\n",
      "[[-1.64624642 -0.71039148 -1.5886974  ... -1.80047153 -0.74791024\n",
      "  -1.91623856]\n",
      " [-1.64285543 -0.71826683 -1.59511178 ... -1.80432758 -0.7384828\n",
      "  -1.91461479]\n",
      " [-1.63516658 -0.71704758 -1.58986864 ... -1.79761844 -0.73321725\n",
      "  -1.90618707]\n",
      " [-1.65016232 -0.7156411  -1.59616896 ... -1.80763791 -0.74668286\n",
      "  -1.92168234]\n",
      " [-1.63924382 -0.71595834 -1.59084847 ... -1.7997701  -0.7374754\n",
      "  -1.91022427]]\n",
      "************************************************************\n"
     ]
    }
   ],
   "source": [
    "# Here we see that we'd need about 100 components to retain 100% of the variance. Looking at this plot for a high-dimensional \n",
    "# dataset can help us understand the level of redundancy present in multiple observatio ns\n",
    "# Applying PCA to reduce the number of dimensions from 502 to 2 dimensions for better d ata visualization. \n",
    "pca = PCA(n_components=2) \n",
    "pca.fit(X_scaled) \n",
    "print('explained variance :') \n",
    "print('************************************************************') \n",
    "print(pca.explained_variance_) \n",
    "print('************************************************************') \n",
    "print('PCA Components : ') \n",
    "print('************************************************************')\n",
    "print(pca.components_) \n",
    "print('************************************************************') \n",
    "X_transformed = pca.transform(X_scaled) \n",
    "print('Transformed Feature values first five rows :') \n",
    "print('************************************************************') \n",
    "print(X_transformed[:5,:]) \n",
    "print('************************************************************') \n",
    "print('Transformed Feature shape :') \n",
    "print('************************************************************') \n",
    "print(X_transformed.shape) \n",
    "print('************************************************************') \n",
    "print('Original Feature shape :') \n",
    "print('************************************************************') \n",
    "print(X_scaled.shape) \n",
    "print('************************************************************') \n",
    "print('Restransformed Feature shape :') \n",
    "print('************************************************************') \n",
    "X_retransformed = pca.inverse_transform(X_transformed) \n",
    "print(X_retransformed.shape)\n",
    "print('************************************************************') \n",
    "print('Retransformed Feature values first five rows :') \n",
    "print('************************************************************') \n",
    "print(X_retransformed[:5,:]) \n",
    "print('************************************************************')\n"
   ]
  },
  {
   "cell_type": "code",
   "execution_count": 9,
   "metadata": {},
   "outputs": [
    {
     "data": {
      "image/png": "[encoded data removed]",
      "text/plain": [
       "<Figure size 432x288 with 1 Axes>"
      ]
     },
     "metadata": {},
     "output_type": "display_data"
    }
   ],
   "source": [
    "# Finding optimum number of clusters for KMEANS cluster \n",
    "wcss=[] \n",
    "for i in range(1, 21): \n",
    "    kmeans = KMeans(n_clusters = i, init = 'k-means++', random_state = 0) \n",
    "    kmeans.fit(X_transformed) \n",
    "    wcss.append(kmeans.inertia_) \n",
    "plt.plot(range(1, 21), wcss) \n",
    "plt.title('The Elbow Method') \n",
    "plt.xlabel('Number of clusters') \n",
    "plt.ylabel('Mean Squared Errors') \n",
    "plt.show()"
   ]
  },
  {
   "cell_type": "code",
   "execution_count": 10,
   "metadata": {},
   "outputs": [
    {
     "data": {
      "text/plain": [
       "<AxesSubplot:title={'center':'Elbow Plot'}, xlabel='Number of clusters', ylabel='Sum of Squared Errors'>"
      ]
     },
     "execution_count": 10,
     "metadata": {},
     "output_type": "execute_result"
    },
    {
     "data": {
      "image/png": "[encoded data removed]",
      "text/plain": [
       "<Figure size 432x288 with 2 Axes>"
      ]
     },
     "metadata": {},
     "output_type": "display_data"
    }
   ],
   "source": [
    "import scikitplot \n",
    "scikitplot.cluster.plot_elbow_curve(KMeans(),X_transformed,cluster_ranges=range(1,20))"
   ]
  },
  {
   "cell_type": "code",
   "execution_count": 11,
   "metadata": {},
   "outputs": [
    {
     "name": "stdout",
     "output_type": "stream",
     "text": [
      "labels generated :\n",
      " [1 1 1 ... 2 2 2]\n"
     ]
    }
   ],
   "source": [
    "#optimum number of cluster which are determined from elbow method is 5.\n",
    "# Applying K-Means Clustering to find stocks which are similar in performance \n",
    "k_means = KMeans(n_clusters=5,random_state=0,init='k-means++') \n",
    "k_means.fit(X_transformed) \n",
    "y_kmeans = kmeans.fit_predict(X_transformed) \n",
    "labels = k_means.labels_\n",
    "print(\"labels generated :\\n\",labels)"
   ]
  },
  {
   "cell_type": "code",
   "execution_count": 12,
   "metadata": {},
   "outputs": [
    {
     "data": {
      "text/plain": [
       "41266"
      ]
     },
     "execution_count": 12,
     "metadata": {},
     "output_type": "execute_result"
    }
   ],
   "source": [
    "len(labels)"
   ]
  },
  {
   "cell_type": "code",
   "execution_count": 13,
   "metadata": {},
   "outputs": [
    {
     "data": {
      "image/png": "[encoded data removed]",
      "text/plain": [
       "<Figure size 432x288 with 1 Axes>"
      ]
     },
     "metadata": {},
     "output_type": "display_data"
    },
    {
     "name": "stdout",
     "output_type": "stream",
     "text": [
      "The above 5 clusters shows the stocks which are similar in stock performance\n"
     ]
    }
   ],
   "source": [
    "# Visualising the clusters \n",
    "plt.scatter(X_transformed[y_kmeans == 0, 0], X_transformed[y_kmeans == 0, 1], s = 100, c = 'green', label = 'Cluster 1') \n",
    "plt.scatter(X_transformed[y_kmeans == 1, 0], X_transformed[y_kmeans == 1, 1], s = 100, c = 'red', label = 'Cluster 2') \n",
    "plt.scatter(X_transformed[y_kmeans == 2, 0], X_transformed[y_kmeans == 2, 1], s = 100, c = 'blue', label = 'Cluster 3')\n",
    "plt.scatter(X_transformed[y_kmeans == 3, 0], X_transformed[y_kmeans == 3, 1], s = 100, c = 'cyan', label = 'Cluster 4') \n",
    "plt.scatter(X_transformed[y_kmeans == 4, 0], X_transformed[y_kmeans == 4, 1], s = 100, c = 'magenta', label = 'Cluster 5') \n",
    "#plt.scatter(kmeans.cluster_centers_[:, 0], kmeans.cluster_centers_[:, 1], s = 300, c = 'yellow', label = 'Centroids') \n",
    "plt.title('Clusters of stocks') \n",
    "plt.xlabel('Principal Component (1)')\n",
    "plt.ylabel('Principal Component (2)') \n",
    "plt.legend() \n",
    "plt.show() \n",
    "print('The above 5 clusters shows the stocks which are similar in stock performance')"
   ]
  },
  {
   "cell_type": "markdown",
   "metadata": {},
   "source": [
    "# Exercise 2\n",
    "\n",
    "How many Unique patterns that exist in the historical stock data set, based on fluctuations in price."
   ]
  },
  {
   "cell_type": "code",
   "execution_count": 14,
   "metadata": {},
   "outputs": [
    {
     "data": {
      "text/html": [
       "<div>\n",
       "<style scoped>\n",
       "    .dataframe tbody tr th:only-of-type {\n",
       "        vertical-align: middle;\n",
       "    }\n",
       "\n",
       "    .dataframe tbody tr th {\n",
       "        vertical-align: top;\n",
       "    }\n",
       "\n",
       "    .dataframe thead th {\n",
       "        text-align: right;\n",
       "    }\n",
       "</style>\n",
       "<table border=\"1\" class=\"dataframe\">\n",
       "  <thead>\n",
       "    <tr style=\"text-align: right;\">\n",
       "      <th></th>\n",
       "      <th>Return</th>\n",
       "      <th>Volatility</th>\n",
       "    </tr>\n",
       "  </thead>\n",
       "  <tbody>\n",
       "    <tr>\n",
       "      <th>NASDAQ.AAL</th>\n",
       "      <td>0.000441</td>\n",
       "      <td>0.014326</td>\n",
       "    </tr>\n",
       "    <tr>\n",
       "      <th>NASDAQ.AAPL</th>\n",
       "      <td>0.000855</td>\n",
       "      <td>0.009879</td>\n",
       "    </tr>\n",
       "    <tr>\n",
       "      <th>NASDAQ.ADBE</th>\n",
       "      <td>0.001144</td>\n",
       "      <td>0.009637</td>\n",
       "    </tr>\n",
       "    <tr>\n",
       "      <th>NASDAQ.ADI</th>\n",
       "      <td>0.000198</td>\n",
       "      <td>0.012395</td>\n",
       "    </tr>\n",
       "    <tr>\n",
       "      <th>NASDAQ.ADP</th>\n",
       "      <td>0.000310</td>\n",
       "      <td>0.011048</td>\n",
       "    </tr>\n",
       "    <tr>\n",
       "      <th>...</th>\n",
       "      <td>...</td>\n",
       "      <td>...</td>\n",
       "    </tr>\n",
       "    <tr>\n",
       "      <th>NYSE.XRX</th>\n",
       "      <td>0.018951</td>\n",
       "      <td>0.234735</td>\n",
       "    </tr>\n",
       "    <tr>\n",
       "      <th>NYSE.XYL</th>\n",
       "      <td>0.001340</td>\n",
       "      <td>0.009634</td>\n",
       "    </tr>\n",
       "    <tr>\n",
       "      <th>NYSE.YUM</th>\n",
       "      <td>0.001151</td>\n",
       "      <td>0.006875</td>\n",
       "    </tr>\n",
       "    <tr>\n",
       "      <th>NYSE.ZBH</th>\n",
       "      <td>-0.000336</td>\n",
       "      <td>0.011109</td>\n",
       "    </tr>\n",
       "    <tr>\n",
       "      <th>NYSE.ZTS</th>\n",
       "      <td>0.001020</td>\n",
       "      <td>0.008448</td>\n",
       "    </tr>\n",
       "  </tbody>\n",
       "</table>\n",
       "<p>500 rows × 2 columns</p>\n",
       "</div>"
      ],
      "text/plain": [
       "               Return  Volatility\n",
       "NASDAQ.AAL   0.000441    0.014326\n",
       "NASDAQ.AAPL  0.000855    0.009879\n",
       "NASDAQ.ADBE  0.001144    0.009637\n",
       "NASDAQ.ADI   0.000198    0.012395\n",
       "NASDAQ.ADP   0.000310    0.011048\n",
       "...               ...         ...\n",
       "NYSE.XRX     0.018951    0.234735\n",
       "NYSE.XYL     0.001340    0.009634\n",
       "NYSE.YUM     0.001151    0.006875\n",
       "NYSE.ZBH    -0.000336    0.011109\n",
       "NYSE.ZTS     0.001020    0.008448\n",
       "\n",
       "[500 rows x 2 columns]"
      ]
     },
     "execution_count": 14,
     "metadata": {},
     "output_type": "execute_result"
    }
   ],
   "source": [
    "# Find the average annual percentage returns for each stock (column)\n",
    "returns = pd.DataFrame()\n",
    "returns[\"Return\"] = df.pct_change().mean()*252\n",
    "returns[\"Volatility\"] = df.pct_change().std()*sqrt(252)\n",
    "returns"
   ]
  },
  {
   "cell_type": "code",
   "execution_count": 15,
   "metadata": {},
   "outputs": [
    {
     "data": {
      "text/html": [
       "<div>\n",
       "<style scoped>\n",
       "    .dataframe tbody tr th:only-of-type {\n",
       "        vertical-align: middle;\n",
       "    }\n",
       "\n",
       "    .dataframe tbody tr th {\n",
       "        vertical-align: top;\n",
       "    }\n",
       "\n",
       "    .dataframe thead th {\n",
       "        text-align: right;\n",
       "    }\n",
       "</style>\n",
       "<table border=\"1\" class=\"dataframe\">\n",
       "  <thead>\n",
       "    <tr style=\"text-align: right;\">\n",
       "      <th></th>\n",
       "      <th>Return</th>\n",
       "      <th>Volatility</th>\n",
       "    </tr>\n",
       "  </thead>\n",
       "  <tbody>\n",
       "    <tr>\n",
       "      <th>NASDAQ.AAL</th>\n",
       "      <td>0.000441</td>\n",
       "      <td>0.014326</td>\n",
       "    </tr>\n",
       "    <tr>\n",
       "      <th>NASDAQ.AAPL</th>\n",
       "      <td>0.000855</td>\n",
       "      <td>0.009879</td>\n",
       "    </tr>\n",
       "    <tr>\n",
       "      <th>NASDAQ.ADBE</th>\n",
       "      <td>0.001144</td>\n",
       "      <td>0.009637</td>\n",
       "    </tr>\n",
       "    <tr>\n",
       "      <th>NASDAQ.ADI</th>\n",
       "      <td>0.000198</td>\n",
       "      <td>0.012395</td>\n",
       "    </tr>\n",
       "    <tr>\n",
       "      <th>NASDAQ.ADP</th>\n",
       "      <td>0.000310</td>\n",
       "      <td>0.011048</td>\n",
       "    </tr>\n",
       "    <tr>\n",
       "      <th>...</th>\n",
       "      <td>...</td>\n",
       "      <td>...</td>\n",
       "    </tr>\n",
       "    <tr>\n",
       "      <th>NYSE.XRX</th>\n",
       "      <td>0.018951</td>\n",
       "      <td>0.234735</td>\n",
       "    </tr>\n",
       "    <tr>\n",
       "      <th>NYSE.XYL</th>\n",
       "      <td>0.001340</td>\n",
       "      <td>0.009634</td>\n",
       "    </tr>\n",
       "    <tr>\n",
       "      <th>NYSE.YUM</th>\n",
       "      <td>0.001151</td>\n",
       "      <td>0.006875</td>\n",
       "    </tr>\n",
       "    <tr>\n",
       "      <th>NYSE.ZBH</th>\n",
       "      <td>-0.000336</td>\n",
       "      <td>0.011109</td>\n",
       "    </tr>\n",
       "    <tr>\n",
       "      <th>NYSE.ZTS</th>\n",
       "      <td>0.001020</td>\n",
       "      <td>0.008448</td>\n",
       "    </tr>\n",
       "  </tbody>\n",
       "</table>\n",
       "<p>500 rows × 2 columns</p>\n",
       "</div>"
      ],
      "text/plain": [
       "               Return  Volatility\n",
       "NASDAQ.AAL   0.000441    0.014326\n",
       "NASDAQ.AAPL  0.000855    0.009879\n",
       "NASDAQ.ADBE  0.001144    0.009637\n",
       "NASDAQ.ADI   0.000198    0.012395\n",
       "NASDAQ.ADP   0.000310    0.011048\n",
       "...               ...         ...\n",
       "NYSE.XRX     0.018951    0.234735\n",
       "NYSE.XYL     0.001340    0.009634\n",
       "NYSE.YUM     0.001151    0.006875\n",
       "NYSE.ZBH    -0.000336    0.011109\n",
       "NYSE.ZTS     0.001020    0.008448\n",
       "\n",
       "[500 rows x 2 columns]"
      ]
     },
     "execution_count": 15,
     "metadata": {},
     "output_type": "execute_result"
    }
   ],
   "source": [
    "import warnings\n",
    "warnings.filterwarnings('ignore')\n",
    "\n",
    "returns[\"Volatility\"] = df.pct_change().std()*sqrt(252)\n",
    "returns"
   ]
  },
  {
   "cell_type": "code",
   "execution_count": 16,
   "metadata": {},
   "outputs": [],
   "source": [
    "# Convert Dataframe to Numpy Array\n",
    "X = returns\n",
    "\n",
    "inertia= []\n",
    "for k in range(2,20):\n",
    "    k_means = KMeans(n_clusters = k)\n",
    "    k_means.fit(X)\n",
    "    inertia.append(k_means.inertia_)   # inertia shows how far the points are within a cluster"
   ]
  },
  {
   "cell_type": "code",
   "execution_count": 17,
   "metadata": {},
   "outputs": [
    {
     "data": {
      "text/plain": [
       "[0.009179624025701771,\n",
       " 0.003828026610359753,\n",
       " 0.0023141597403154475,\n",
       " 0.001594701888951982,\n",
       " 0.0011816826860351114,\n",
       " 0.0009449628910977424,\n",
       " 0.0007999911034448721,\n",
       " 0.0006694795004194723,\n",
       " 0.000588592192625678,\n",
       " 0.0005228217987058011,\n",
       " 0.0004669425350265877,\n",
       " 0.0004315655389403667,\n",
       " 0.00039354371208723786,\n",
       " 0.00035751257972121834,\n",
       " 0.0003369230443603133,\n",
       " 0.00030492003243539473,\n",
       " 0.00028957971768910854,\n",
       " 0.0002658761931217795]"
      ]
     },
     "execution_count": 17,
     "metadata": {},
     "output_type": "execute_result"
    }
   ],
   "source": [
    "# When the number of clusters increases, inertia decreases.\n",
    "inertia\n"
   ]
  },
  {
   "cell_type": "code",
   "execution_count": 18,
   "metadata": {},
   "outputs": [
    {
     "data": {
      "image/png": "[encoded data removed]",
      "text/plain": [
       "<Figure size 1440x504 with 1 Axes>"
      ]
     },
     "metadata": {},
     "output_type": "display_data"
    }
   ],
   "source": [
    "# Elbow method to find the best value of number of clusters\n",
    "fig = plt.figure(figsize=(20,7))\n",
    "plt.plot(range(2,20), inertia)\n",
    "plt.grid(True)\n",
    "plt.title('Elbow-Curve')\n",
    "plt.xlabel(\"Nr of clusters (k)\")\n",
    "plt.ylabel(\"Inertia\")\n",
    "plt.show()\n",
    "\n",
    "# At cluster no.5 or 4 the curve has a steep , so we choose 5 as the number of clusters\n",
    "# When number of clusters is greater than 5, inertia decreases very slowly"
   ]
  },
  {
   "cell_type": "code",
   "execution_count": 19,
   "metadata": {},
   "outputs": [
    {
     "name": "stdout",
     "output_type": "stream",
     "text": [
      "[0 2 2 2 2 0 0 0 0 4 3 2 2 2 0 2 0 3 2 2 2 0 2 2 3 2 2 2 2 3 2 0 0 2 0 0 2\n",
      " 2 0 2 2 2 0 2 0 3 2 2 2 2 3 3 2 2 0 2 0 2 2 2 0 4 3 3 2 2 2 3 2 2 0 2 0 2\n",
      " 3 2 3 0 0 0 3 0 2 2 4 4 2 0 3 2 2 2 0 2 3 0 0 0 2 0 3 0 2 4 2 2 0 2 0 3 0\n",
      " 0 3 3 4 3 0 4 2 0 2 2 0 2 4 3 2 3 3 2 0 3 3 2 3 3 3 3 3 2 3 2 2 3 3 3 2 2\n",
      " 3 0 2 3 0 0 3 3 3 0 3 3 3 3 0 0 3 2 3 2 0 0 3 2 2 4 3 3 4 2 3 3 0 2 2 2 0\n",
      " 2 3 2 2 3 3 0 0 3 4 3 3 3 2 0 2 3 2 3 2 0 0 2 2 2 0 2 2 2 0 3 3 0 3 2 3 2\n",
      " 2 0 3 2 3 3 2 2 2 3 3 2 3 3 2 0 2 3 3 2 3 2 2 3 2 3 0 3 2 2 3 0 2 3 2 2 3\n",
      " 0 3 3 3 4 0 0 2 2 0 3 3 2 0 3 2 2 2 2 0 2 0 2 2 2 3 2 3 0 3 0 3 0 2 2 0 2\n",
      " 3 2 3 2 3 3 2 3 0 3 2 2 3 2 2 2 3 2 3 4 3 0 0 3 2 0 3 4 0 0 2 3 4 3 2 2 2\n",
      " 3 3 2 3 2 2 2 3 2 0 3 3 2 3 3 2 3 3 2 2 2 0 3 3 0 2 3 0 2 3 0 2 3 2 0 0 3\n",
      " 2 0 3 2 2 3 0 4 2 0 2 3 2 2 2 2 3 3 3 3 3 3 3 2 2 3 3 3 2 2 3 3 3 0 2 2 3\n",
      " 0 2 3 0 3 2 2 0 2 2 4 2 0 2 3 0 3 3 2 2 2 2 4 2 2 2 2 3 2 3 3 2 2 2 3 0 3\n",
      " 3 3 2 0 2 0 2 2 3 3 3 2 2 2 3 2 0 0 2 3 2 3 2 3 3 0 3 3 3 3 2 2 0 0 3 3 2\n",
      " 3 2 2 3 2 3 2 2 3 2 0 3 3 3 1 2 3 2 3]\n"
     ]
    }
   ],
   "source": [
    "# Fitting K-Means to the dataset\n",
    "nr_clusters = 5\n",
    "kmeans = KMeans(n_clusters = nr_clusters, init = 'k-means++', random_state = 42)\n",
    "y_kmeans = kmeans.fit_predict(X)\n",
    "print(y_kmeans)\n",
    "#print(kmeans.labels_)"
   ]
  },
  {
   "cell_type": "code",
   "execution_count": 20,
   "metadata": {},
   "outputs": [
    {
     "data": {
      "text/plain": [
       "array([[-4.42070482e-04,  1.57131328e-02],\n",
       "       [ 1.89505434e-02,  2.34735167e-01],\n",
       "       [ 2.34434109e-04,  1.09177375e-02],\n",
       "       [ 4.00372629e-04,  7.60502953e-03],\n",
       "       [-4.74829190e-04,  2.45881459e-02]])"
      ]
     },
     "execution_count": 20,
     "metadata": {},
     "output_type": "execute_result"
    }
   ],
   "source": [
    "kmeans.cluster_centers_\n"
   ]
  },
  {
   "cell_type": "code",
   "execution_count": 21,
   "metadata": {},
   "outputs": [
    {
     "data": {
      "text/html": [
       "<div>\n",
       "<style scoped>\n",
       "    .dataframe tbody tr th:only-of-type {\n",
       "        vertical-align: middle;\n",
       "    }\n",
       "\n",
       "    .dataframe tbody tr th {\n",
       "        vertical-align: top;\n",
       "    }\n",
       "\n",
       "    .dataframe thead th {\n",
       "        text-align: right;\n",
       "    }\n",
       "</style>\n",
       "<table border=\"1\" class=\"dataframe\">\n",
       "  <thead>\n",
       "    <tr style=\"text-align: right;\">\n",
       "      <th></th>\n",
       "      <th>Return</th>\n",
       "      <th>Volatility</th>\n",
       "    </tr>\n",
       "  </thead>\n",
       "  <tbody>\n",
       "    <tr>\n",
       "      <th>NASDAQ.AMGN</th>\n",
       "      <td>0.000509</td>\n",
       "      <td>0.008783</td>\n",
       "    </tr>\n",
       "    <tr>\n",
       "      <th>NASDAQ.CBOE</th>\n",
       "      <td>0.001373</td>\n",
       "      <td>0.008338</td>\n",
       "    </tr>\n",
       "    <tr>\n",
       "      <th>NASDAQ.CME</th>\n",
       "      <td>0.000353</td>\n",
       "      <td>0.008203</td>\n",
       "    </tr>\n",
       "    <tr>\n",
       "      <th>NASDAQ.CTSH</th>\n",
       "      <td>0.001067</td>\n",
       "      <td>0.007803</td>\n",
       "    </tr>\n",
       "    <tr>\n",
       "      <th>NASDAQ.FISV</th>\n",
       "      <td>0.000449</td>\n",
       "      <td>0.007682</td>\n",
       "    </tr>\n",
       "    <tr>\n",
       "      <th>...</th>\n",
       "      <td>...</td>\n",
       "      <td>...</td>\n",
       "    </tr>\n",
       "    <tr>\n",
       "      <th>NYSE.XEL</th>\n",
       "      <td>0.000679</td>\n",
       "      <td>0.005749</td>\n",
       "    </tr>\n",
       "    <tr>\n",
       "      <th>NYSE.XL</th>\n",
       "      <td>0.000195</td>\n",
       "      <td>0.008365</td>\n",
       "    </tr>\n",
       "    <tr>\n",
       "      <th>NYSE.XOM</th>\n",
       "      <td>-0.000420</td>\n",
       "      <td>0.006454</td>\n",
       "    </tr>\n",
       "    <tr>\n",
       "      <th>NYSE.YUM</th>\n",
       "      <td>0.001151</td>\n",
       "      <td>0.006875</td>\n",
       "    </tr>\n",
       "    <tr>\n",
       "      <th>NYSE.ZTS</th>\n",
       "      <td>0.001020</td>\n",
       "      <td>0.008448</td>\n",
       "    </tr>\n",
       "  </tbody>\n",
       "</table>\n",
       "<p>171 rows × 2 columns</p>\n",
       "</div>"
      ],
      "text/plain": [
       "               Return  Volatility\n",
       "NASDAQ.AMGN  0.000509    0.008783\n",
       "NASDAQ.CBOE  0.001373    0.008338\n",
       "NASDAQ.CME   0.000353    0.008203\n",
       "NASDAQ.CTSH  0.001067    0.007803\n",
       "NASDAQ.FISV  0.000449    0.007682\n",
       "...               ...         ...\n",
       "NYSE.XEL     0.000679    0.005749\n",
       "NYSE.XL      0.000195    0.008365\n",
       "NYSE.XOM    -0.000420    0.006454\n",
       "NYSE.YUM     0.001151    0.006875\n",
       "NYSE.ZTS     0.001020    0.008448\n",
       "\n",
       "[171 rows x 2 columns]"
      ]
     },
     "execution_count": 21,
     "metadata": {},
     "output_type": "execute_result"
    }
   ],
   "source": [
    "X[y_kmeans == 3]"
   ]
  },
  {
   "cell_type": "code",
   "execution_count": 22,
   "metadata": {},
   "outputs": [
    {
     "data": {
      "image/png": "[encoded data removed]",
      "text/plain": [
       "<Figure size 1080x720 with 1 Axes>"
      ]
     },
     "metadata": {},
     "output_type": "display_data"
    }
   ],
   "source": [
    "# Visualising the clusters\n",
    "plt.figure(figsize=(15,10))\n",
    "plt.scatter(X[y_kmeans == 0]['Return'], X[y_kmeans == 0]['Volatility'], s = 50, c = 'red', label = 'Cluster 1')\n",
    "plt.scatter(X[y_kmeans == 1]['Return'], X[y_kmeans == 1]['Volatility'], s = 50, c = 'blue', label = 'Cluster 2')\n",
    "plt.scatter(X[y_kmeans == 2]['Return'], X[y_kmeans == 2]['Volatility'], s = 50, c = 'green', label = 'Cluster 3')\n",
    "plt.scatter(X[y_kmeans == 3]['Return'], X[y_kmeans == 3]['Volatility'], s = 50, c = 'cyan', label = 'Cluster 4')\n",
    "plt.scatter(X[y_kmeans == 4]['Return'], X[y_kmeans == 4]['Volatility'], s = 50, c = 'magenta', label = 'Cluster 5')\n",
    "plt.scatter(kmeans.cluster_centers_[:, 0], kmeans.cluster_centers_[:, 1], s = 50, c = 'black', label = 'Centroids')\n",
    "plt.title('Clusters of customers')\n",
    "plt.xlabel('Returns')\n",
    "plt.ylabel('Volatility')\n",
    "plt.legend()\n",
    "plt.show()"
   ]
  },
  {
   "cell_type": "code",
   "execution_count": 23,
   "metadata": {},
   "outputs": [
    {
     "name": "stdout",
     "output_type": "stream",
     "text": [
      "Return        NYSE.XRX\n",
      "Volatility    NYSE.XRX\n",
      "dtype: object\n"
     ]
    }
   ],
   "source": [
    "# We should find the outlier and delete it. \n",
    "# Since it is a point that is far from all the other points it should not be part of any cluster\n",
    "# idxmax returns the index of the maximum element in each column (axis=0 by default)\n",
    "# As we see the row with index NYSE.XRX is the outlier\n",
    "\n",
    "print(returns.idxmax())"
   ]
  },
  {
   "cell_type": "code",
   "execution_count": 24,
   "metadata": {},
   "outputs": [
    {
     "data": {
      "text/html": [
       "<div>\n",
       "<style scoped>\n",
       "    .dataframe tbody tr th:only-of-type {\n",
       "        vertical-align: middle;\n",
       "    }\n",
       "\n",
       "    .dataframe tbody tr th {\n",
       "        vertical-align: top;\n",
       "    }\n",
       "\n",
       "    .dataframe thead th {\n",
       "        text-align: right;\n",
       "    }\n",
       "</style>\n",
       "<table border=\"1\" class=\"dataframe\">\n",
       "  <thead>\n",
       "    <tr style=\"text-align: right;\">\n",
       "      <th></th>\n",
       "      <th>Return</th>\n",
       "      <th>Volatility</th>\n",
       "    </tr>\n",
       "  </thead>\n",
       "  <tbody>\n",
       "    <tr>\n",
       "      <th>NASDAQ.AAL</th>\n",
       "      <td>0.000441</td>\n",
       "      <td>0.014326</td>\n",
       "    </tr>\n",
       "    <tr>\n",
       "      <th>NASDAQ.AAPL</th>\n",
       "      <td>0.000855</td>\n",
       "      <td>0.009879</td>\n",
       "    </tr>\n",
       "    <tr>\n",
       "      <th>NASDAQ.ADBE</th>\n",
       "      <td>0.001144</td>\n",
       "      <td>0.009637</td>\n",
       "    </tr>\n",
       "    <tr>\n",
       "      <th>NASDAQ.ADI</th>\n",
       "      <td>0.000198</td>\n",
       "      <td>0.012395</td>\n",
       "    </tr>\n",
       "    <tr>\n",
       "      <th>NASDAQ.ADP</th>\n",
       "      <td>0.000310</td>\n",
       "      <td>0.011048</td>\n",
       "    </tr>\n",
       "    <tr>\n",
       "      <th>...</th>\n",
       "      <td>...</td>\n",
       "      <td>...</td>\n",
       "    </tr>\n",
       "    <tr>\n",
       "      <th>NYSE.XOM</th>\n",
       "      <td>-0.000420</td>\n",
       "      <td>0.006454</td>\n",
       "    </tr>\n",
       "    <tr>\n",
       "      <th>NYSE.XYL</th>\n",
       "      <td>0.001340</td>\n",
       "      <td>0.009634</td>\n",
       "    </tr>\n",
       "    <tr>\n",
       "      <th>NYSE.YUM</th>\n",
       "      <td>0.001151</td>\n",
       "      <td>0.006875</td>\n",
       "    </tr>\n",
       "    <tr>\n",
       "      <th>NYSE.ZBH</th>\n",
       "      <td>-0.000336</td>\n",
       "      <td>0.011109</td>\n",
       "    </tr>\n",
       "    <tr>\n",
       "      <th>NYSE.ZTS</th>\n",
       "      <td>0.001020</td>\n",
       "      <td>0.008448</td>\n",
       "    </tr>\n",
       "  </tbody>\n",
       "</table>\n",
       "<p>499 rows × 2 columns</p>\n",
       "</div>"
      ],
      "text/plain": [
       "               Return  Volatility\n",
       "NASDAQ.AAL   0.000441    0.014326\n",
       "NASDAQ.AAPL  0.000855    0.009879\n",
       "NASDAQ.ADBE  0.001144    0.009637\n",
       "NASDAQ.ADI   0.000198    0.012395\n",
       "NASDAQ.ADP   0.000310    0.011048\n",
       "...               ...         ...\n",
       "NYSE.XOM    -0.000420    0.006454\n",
       "NYSE.XYL     0.001340    0.009634\n",
       "NYSE.YUM     0.001151    0.006875\n",
       "NYSE.ZBH    -0.000336    0.011109\n",
       "NYSE.ZTS     0.001020    0.008448\n",
       "\n",
       "[499 rows x 2 columns]"
      ]
     },
     "execution_count": 24,
     "metadata": {},
     "output_type": "execute_result"
    }
   ],
   "source": [
    "# drop the NYSES.XRX stock from our data\n",
    "new_df = df.drop('NYSE.XRX',axis=1).copy()\n",
    "\n",
    "returns = pd.DataFrame()\n",
    "returns[\"Return\"] = new_df.pct_change().mean()*252\n",
    "returns[\"Volatility\"] = new_df.pct_change().std()*sqrt(252)\n",
    "returns\n",
    "# nr of rows is 499 since we dropped one column"
   ]
  },
  {
   "cell_type": "code",
   "execution_count": 25,
   "metadata": {},
   "outputs": [
    {
     "name": "stdout",
     "output_type": "stream",
     "text": [
      "[4 1 1 4 1 0 0 0 4 2 1 1 4 4 4 4 4 3 1 1 4 4 1 1 3 1 1 1 1 3 4 4 4 4 0 4 1\n",
      " 1 4 4 1 1 4 1 4 3 4 1 4 4 1 1 1 1 0 4 4 4 1 4 4 0 3 1 4 1 1 3 4 1 4 1 4 4\n",
      " 3 1 3 0 0 4 3 4 4 1 0 0 4 0 3 1 1 1 4 1 1 4 0 4 1 0 1 0 4 2 4 4 0 1 4 1 0\n",
      " 0 1 1 2 1 0 2 1 4 4 1 4 1 0 3 4 3 3 1 4 3 3 4 3 3 1 3 1 1 3 1 4 3 1 3 4 1\n",
      " 1 4 1 3 4 4 3 3 1 0 1 3 3 3 0 0 3 4 3 1 0 0 1 1 4 2 3 1 2 1 3 3 4 1 1 1 4\n",
      " 1 3 1 1 1 3 0 4 3 2 3 3 3 4 4 1 3 4 3 4 4 4 1 1 4 0 1 1 1 4 3 3 4 3 4 3 1\n",
      " 1 4 3 1 3 3 4 1 1 3 3 1 3 3 1 0 1 3 3 1 3 1 1 1 4 3 0 3 1 1 3 4 4 3 1 1 3\n",
      " 0 3 1 3 2 4 0 4 1 4 1 3 1 4 3 1 1 1 1 0 1 0 4 4 1 3 1 3 0 3 4 3 0 1 4 4 1\n",
      " 3 4 3 1 3 1 1 1 4 1 1 1 3 1 1 4 3 1 1 0 3 4 4 3 1 0 3 0 0 0 1 3 0 1 1 1 1\n",
      " 1 3 4 3 1 1 4 1 1 0 3 1 4 1 3 4 1 3 4 1 1 4 3 3 0 1 3 4 1 3 0 4 1 1 0 4 3\n",
      " 4 0 3 1 1 3 4 2 1 4 4 1 4 1 1 1 3 3 3 3 1 3 3 1 1 1 3 3 1 1 3 3 3 0 1 1 3\n",
      " 4 4 1 0 3 4 1 4 1 4 0 4 0 1 3 0 3 3 1 1 1 1 2 1 1 1 1 3 4 3 3 1 1 1 3 0 3\n",
      " 3 3 1 4 1 4 4 1 3 3 3 1 1 1 3 1 0 0 4 3 4 3 1 1 3 0 3 3 3 1 1 1 4 0 3 3 1\n",
      " 3 1 4 3 1 1 1 1 1 1 0 3 3 3 1 3 1 3]\n"
     ]
    }
   ],
   "source": [
    "# Fitting K-Means to the dataset\n",
    "X = returns\n",
    "nr_clusters = 5\n",
    "kmeans = KMeans(n_clusters = nr_clusters, init = 'k-means++', random_state = 42)\n",
    "y_kmeans = kmeans.fit_predict(X)\n",
    "print(y_kmeans)\n",
    "#print(kmeans.labels_)"
   ]
  },
  {
   "cell_type": "code",
   "execution_count": 26,
   "metadata": {},
   "outputs": [
    {
     "data": {
      "text/plain": [
       "array([[-0.00045963,  0.01796525],\n",
       "       [ 0.00028132,  0.01003419],\n",
       "       [-0.00072391,  0.02715909],\n",
       "       [ 0.00042175,  0.00721429],\n",
       "       [-0.00010964,  0.013313  ]])"
      ]
     },
     "execution_count": 26,
     "metadata": {},
     "output_type": "execute_result"
    }
   ],
   "source": [
    "kmeans.cluster_centers_\n"
   ]
  },
  {
   "cell_type": "code",
   "execution_count": 27,
   "metadata": {},
   "outputs": [
    {
     "data": {
      "text/plain": [
       "499"
      ]
     },
     "execution_count": 27,
     "metadata": {},
     "output_type": "execute_result"
    }
   ],
   "source": [
    "len(y_kmeans)"
   ]
  },
  {
   "cell_type": "code",
   "execution_count": 28,
   "metadata": {},
   "outputs": [
    {
     "data": {
      "image/png": "[encoded data removed]",
      "text/plain": [
       "<Figure size 1080x720 with 1 Axes>"
      ]
     },
     "metadata": {},
     "output_type": "display_data"
    }
   ],
   "source": [
    "# Visualising the clusters\n",
    "plt.figure(figsize=(15,10))\n",
    "plt.scatter(X[y_kmeans == 0]['Return'], X[y_kmeans == 0]['Volatility'], s = 50, c = 'red', label = 'Cluster 1')\n",
    "plt.scatter(X[y_kmeans == 1]['Return'], X[y_kmeans == 1]['Volatility'], s = 50, c = 'blue', label = 'Cluster 2')\n",
    "plt.scatter(X[y_kmeans == 2]['Return'], X[y_kmeans == 2]['Volatility'], s = 50, c = 'green', label = 'Cluster 3')\n",
    "plt.scatter(X[y_kmeans == 3]['Return'], X[y_kmeans == 3]['Volatility'], s = 50, c = 'cyan', label = 'Cluster 4')\n",
    "plt.scatter(X[y_kmeans == 4]['Return'], X[y_kmeans == 4]['Volatility'], s = 50, c = 'magenta', label = 'Cluster 5')\n",
    "plt.scatter(kmeans.cluster_centers_[:, 0], kmeans.cluster_centers_[:, 1], s = 100, c = 'yellow', label = 'Centroids')\n",
    "plt.title('Clusters of customers')\n",
    "plt.xlabel('Returns')\n",
    "plt.ylabel('Volatility')\n",
    "plt.legend()\n",
    "plt.show()"
   ]
  },
  {
   "cell_type": "code",
   "execution_count": 29,
   "metadata": {},
   "outputs": [
    {
     "data": {
      "text/plain": [
       "[('NASDAQ.AAL', 4),\n",
       " ('NASDAQ.AAPL', 1),\n",
       " ('NASDAQ.ADBE', 1),\n",
       " ('NASDAQ.ADI', 4),\n",
       " ('NASDAQ.ADP', 1),\n",
       " ('NASDAQ.ADSK', 0),\n",
       " ('NASDAQ.AKAM', 0),\n",
       " ('NASDAQ.ALXN', 0),\n",
       " ('NASDAQ.AMAT', 4),\n",
       " ('NASDAQ.AMD', 2)]"
      ]
     },
     "execution_count": 29,
     "metadata": {},
     "output_type": "execute_result"
    }
   ],
   "source": [
    "data = [(stock, cluster) for stock, cluster in zip(returns.index, y_kmeans)]\n",
    "data[:10]"
   ]
  },
  {
   "cell_type": "code",
   "execution_count": 30,
   "metadata": {},
   "outputs": [
    {
     "data": {
      "text/html": [
       "<div>\n",
       "<style scoped>\n",
       "    .dataframe tbody tr th:only-of-type {\n",
       "        vertical-align: middle;\n",
       "    }\n",
       "\n",
       "    .dataframe tbody tr th {\n",
       "        vertical-align: top;\n",
       "    }\n",
       "\n",
       "    .dataframe thead th {\n",
       "        text-align: right;\n",
       "    }\n",
       "</style>\n",
       "<table border=\"1\" class=\"dataframe\">\n",
       "  <thead>\n",
       "    <tr style=\"text-align: right;\">\n",
       "      <th></th>\n",
       "      <th>Stock</th>\n",
       "      <th>Cluster</th>\n",
       "    </tr>\n",
       "  </thead>\n",
       "  <tbody>\n",
       "    <tr>\n",
       "      <th>0</th>\n",
       "      <td>NASDAQ.AAL</td>\n",
       "      <td>4</td>\n",
       "    </tr>\n",
       "    <tr>\n",
       "      <th>1</th>\n",
       "      <td>NASDAQ.AAPL</td>\n",
       "      <td>1</td>\n",
       "    </tr>\n",
       "    <tr>\n",
       "      <th>2</th>\n",
       "      <td>NASDAQ.ADBE</td>\n",
       "      <td>1</td>\n",
       "    </tr>\n",
       "    <tr>\n",
       "      <th>3</th>\n",
       "      <td>NASDAQ.ADI</td>\n",
       "      <td>4</td>\n",
       "    </tr>\n",
       "    <tr>\n",
       "      <th>4</th>\n",
       "      <td>NASDAQ.ADP</td>\n",
       "      <td>1</td>\n",
       "    </tr>\n",
       "    <tr>\n",
       "      <th>...</th>\n",
       "      <td>...</td>\n",
       "      <td>...</td>\n",
       "    </tr>\n",
       "    <tr>\n",
       "      <th>494</th>\n",
       "      <td>NYSE.XOM</td>\n",
       "      <td>3</td>\n",
       "    </tr>\n",
       "    <tr>\n",
       "      <th>495</th>\n",
       "      <td>NYSE.XYL</td>\n",
       "      <td>1</td>\n",
       "    </tr>\n",
       "    <tr>\n",
       "      <th>496</th>\n",
       "      <td>NYSE.YUM</td>\n",
       "      <td>3</td>\n",
       "    </tr>\n",
       "    <tr>\n",
       "      <th>497</th>\n",
       "      <td>NYSE.ZBH</td>\n",
       "      <td>1</td>\n",
       "    </tr>\n",
       "    <tr>\n",
       "      <th>498</th>\n",
       "      <td>NYSE.ZTS</td>\n",
       "      <td>3</td>\n",
       "    </tr>\n",
       "  </tbody>\n",
       "</table>\n",
       "<p>499 rows × 2 columns</p>\n",
       "</div>"
      ],
      "text/plain": [
       "           Stock  Cluster\n",
       "0     NASDAQ.AAL        4\n",
       "1    NASDAQ.AAPL        1\n",
       "2    NASDAQ.ADBE        1\n",
       "3     NASDAQ.ADI        4\n",
       "4     NASDAQ.ADP        1\n",
       "..           ...      ...\n",
       "494     NYSE.XOM        3\n",
       "495     NYSE.XYL        1\n",
       "496     NYSE.YUM        3\n",
       "497     NYSE.ZBH        1\n",
       "498     NYSE.ZTS        3\n",
       "\n",
       "[499 rows x 2 columns]"
      ]
     },
     "execution_count": 30,
     "metadata": {},
     "output_type": "execute_result"
    }
   ],
   "source": [
    "datafr = pd.DataFrame(data, columns=[\"Stock\", \"Cluster\"])\n",
    "datafr"
   ]
  },
  {
   "cell_type": "code",
   "execution_count": 31,
   "metadata": {},
   "outputs": [
    {
     "data": {
      "text/plain": [
       "1    187\n",
       "3    130\n",
       "4    116\n",
       "0     56\n",
       "2     10\n",
       "Name: Cluster, dtype: int64"
      ]
     },
     "execution_count": 31,
     "metadata": {},
     "output_type": "execute_result"
    }
   ],
   "source": [
    "datafr[\"Cluster\"].value_counts()"
   ]
  },
  {
   "cell_type": "code",
   "execution_count": 32,
   "metadata": {},
   "outputs": [
    {
     "data": {
      "image/png": "[encoded data removed]",
      "text/plain": [
       "<Figure size 1008x432 with 1 Axes>"
      ]
     },
     "metadata": {},
     "output_type": "display_data"
    }
   ],
   "source": [
    "import seaborn as sns\n",
    "clusters = datafr[\"Cluster\"].value_counts()\n",
    "plt.figure(figsize=(14,6))\n",
    "sns.barplot(x=clusters.index, y=clusters.values, alpha=0.6)\n",
    "plt.ylabel('Number of Occurences',fontsize=12)\n",
    "plt.xlabel('Cluster Number',fontsize=12)\n",
    "plt.title('Barplot - Indicator',fontsize =16)\n",
    "plt.show()"
   ]
  },
  {
   "cell_type": "markdown",
   "metadata": {},
   "source": [
    "# Exercise 3\n",
    "\n",
    "Identify which all stocks are moving together and which all stocks are different from each other"
   ]
  },
  {
   "cell_type": "code",
   "execution_count": 33,
   "metadata": {},
   "outputs": [],
   "source": [
    "df['labels'] = labels\n"
   ]
  },
  {
   "cell_type": "code",
   "execution_count": 34,
   "metadata": {},
   "outputs": [
    {
     "data": {
      "text/html": [
       "<div>\n",
       "<style scoped>\n",
       "    .dataframe tbody tr th:only-of-type {\n",
       "        vertical-align: middle;\n",
       "    }\n",
       "\n",
       "    .dataframe tbody tr th {\n",
       "        vertical-align: top;\n",
       "    }\n",
       "\n",
       "    .dataframe thead th {\n",
       "        text-align: right;\n",
       "    }\n",
       "</style>\n",
       "<table border=\"1\" class=\"dataframe\">\n",
       "  <thead>\n",
       "    <tr style=\"text-align: right;\">\n",
       "      <th></th>\n",
       "      <th>NASDAQ.AAL</th>\n",
       "      <th>NASDAQ.AAPL</th>\n",
       "      <th>NASDAQ.ADBE</th>\n",
       "      <th>NASDAQ.ADI</th>\n",
       "      <th>NASDAQ.ADP</th>\n",
       "      <th>NASDAQ.ADSK</th>\n",
       "      <th>NASDAQ.AKAM</th>\n",
       "      <th>NASDAQ.ALXN</th>\n",
       "      <th>NASDAQ.AMAT</th>\n",
       "      <th>NASDAQ.AMD</th>\n",
       "      <th>...</th>\n",
       "      <th>NYSE.XEC</th>\n",
       "      <th>NYSE.XEL</th>\n",
       "      <th>NYSE.XL</th>\n",
       "      <th>NYSE.XOM</th>\n",
       "      <th>NYSE.XRX</th>\n",
       "      <th>NYSE.XYL</th>\n",
       "      <th>NYSE.YUM</th>\n",
       "      <th>NYSE.ZBH</th>\n",
       "      <th>NYSE.ZTS</th>\n",
       "      <th>labels</th>\n",
       "    </tr>\n",
       "  </thead>\n",
       "  <tbody>\n",
       "    <tr>\n",
       "      <th>0</th>\n",
       "      <td>42.3300</td>\n",
       "      <td>143.6800</td>\n",
       "      <td>129.6300</td>\n",
       "      <td>82.040</td>\n",
       "      <td>102.2300</td>\n",
       "      <td>85.2200</td>\n",
       "      <td>59.760</td>\n",
       "      <td>121.52</td>\n",
       "      <td>38.99</td>\n",
       "      <td>14.61</td>\n",
       "      <td>...</td>\n",
       "      <td>119.035</td>\n",
       "      <td>44.40</td>\n",
       "      <td>39.88</td>\n",
       "      <td>82.03</td>\n",
       "      <td>7.36</td>\n",
       "      <td>50.22</td>\n",
       "      <td>63.86</td>\n",
       "      <td>122.000</td>\n",
       "      <td>53.350</td>\n",
       "      <td>1</td>\n",
       "    </tr>\n",
       "    <tr>\n",
       "      <th>1</th>\n",
       "      <td>42.3600</td>\n",
       "      <td>143.7000</td>\n",
       "      <td>130.3200</td>\n",
       "      <td>82.080</td>\n",
       "      <td>102.1400</td>\n",
       "      <td>85.6500</td>\n",
       "      <td>59.840</td>\n",
       "      <td>121.48</td>\n",
       "      <td>39.01</td>\n",
       "      <td>14.71</td>\n",
       "      <td>...</td>\n",
       "      <td>119.035</td>\n",
       "      <td>44.11</td>\n",
       "      <td>39.88</td>\n",
       "      <td>82.03</td>\n",
       "      <td>7.38</td>\n",
       "      <td>50.22</td>\n",
       "      <td>63.74</td>\n",
       "      <td>121.770</td>\n",
       "      <td>53.350</td>\n",
       "      <td>1</td>\n",
       "    </tr>\n",
       "    <tr>\n",
       "      <th>2</th>\n",
       "      <td>42.3100</td>\n",
       "      <td>143.6901</td>\n",
       "      <td>130.2250</td>\n",
       "      <td>82.030</td>\n",
       "      <td>102.2125</td>\n",
       "      <td>85.5100</td>\n",
       "      <td>59.795</td>\n",
       "      <td>121.93</td>\n",
       "      <td>38.91</td>\n",
       "      <td>14.64</td>\n",
       "      <td>...</td>\n",
       "      <td>119.260</td>\n",
       "      <td>44.09</td>\n",
       "      <td>39.98</td>\n",
       "      <td>82.02</td>\n",
       "      <td>7.36</td>\n",
       "      <td>50.12</td>\n",
       "      <td>63.75</td>\n",
       "      <td>121.700</td>\n",
       "      <td>53.365</td>\n",
       "      <td>1</td>\n",
       "    </tr>\n",
       "    <tr>\n",
       "      <th>3</th>\n",
       "      <td>42.3700</td>\n",
       "      <td>143.6400</td>\n",
       "      <td>130.0729</td>\n",
       "      <td>82.000</td>\n",
       "      <td>102.1400</td>\n",
       "      <td>85.4872</td>\n",
       "      <td>59.620</td>\n",
       "      <td>121.44</td>\n",
       "      <td>38.84</td>\n",
       "      <td>14.63</td>\n",
       "      <td>...</td>\n",
       "      <td>119.260</td>\n",
       "      <td>44.25</td>\n",
       "      <td>39.99</td>\n",
       "      <td>82.02</td>\n",
       "      <td>7.35</td>\n",
       "      <td>50.16</td>\n",
       "      <td>63.88</td>\n",
       "      <td>121.700</td>\n",
       "      <td>53.380</td>\n",
       "      <td>1</td>\n",
       "    </tr>\n",
       "    <tr>\n",
       "      <th>4</th>\n",
       "      <td>42.5378</td>\n",
       "      <td>143.6600</td>\n",
       "      <td>129.8800</td>\n",
       "      <td>82.035</td>\n",
       "      <td>102.0600</td>\n",
       "      <td>85.7001</td>\n",
       "      <td>59.620</td>\n",
       "      <td>121.60</td>\n",
       "      <td>38.93</td>\n",
       "      <td>14.67</td>\n",
       "      <td>...</td>\n",
       "      <td>119.610</td>\n",
       "      <td>44.11</td>\n",
       "      <td>39.96</td>\n",
       "      <td>82.03</td>\n",
       "      <td>7.36</td>\n",
       "      <td>50.20</td>\n",
       "      <td>63.91</td>\n",
       "      <td>121.695</td>\n",
       "      <td>53.240</td>\n",
       "      <td>1</td>\n",
       "    </tr>\n",
       "  </tbody>\n",
       "</table>\n",
       "<p>5 rows × 501 columns</p>\n",
       "</div>"
      ],
      "text/plain": [
       "   NASDAQ.AAL  NASDAQ.AAPL  NASDAQ.ADBE  NASDAQ.ADI  NASDAQ.ADP  NASDAQ.ADSK  \\\n",
       "0     42.3300     143.6800     129.6300      82.040    102.2300      85.2200   \n",
       "1     42.3600     143.7000     130.3200      82.080    102.1400      85.6500   \n",
       "2     42.3100     143.6901     130.2250      82.030    102.2125      85.5100   \n",
       "3     42.3700     143.6400     130.0729      82.000    102.1400      85.4872   \n",
       "4     42.5378     143.6600     129.8800      82.035    102.0600      85.7001   \n",
       "\n",
       "   NASDAQ.AKAM  NASDAQ.ALXN  NASDAQ.AMAT  NASDAQ.AMD  ...  NYSE.XEC  NYSE.XEL  \\\n",
       "0       59.760       121.52        38.99       14.61  ...   119.035     44.40   \n",
       "1       59.840       121.48        39.01       14.71  ...   119.035     44.11   \n",
       "2       59.795       121.93        38.91       14.64  ...   119.260     44.09   \n",
       "3       59.620       121.44        38.84       14.63  ...   119.260     44.25   \n",
       "4       59.620       121.60        38.93       14.67  ...   119.610     44.11   \n",
       "\n",
       "   NYSE.XL  NYSE.XOM  NYSE.XRX  NYSE.XYL  NYSE.YUM  NYSE.ZBH  NYSE.ZTS  labels  \n",
       "0    39.88     82.03      7.36     50.22     63.86   122.000    53.350       1  \n",
       "1    39.88     82.03      7.38     50.22     63.74   121.770    53.350       1  \n",
       "2    39.98     82.02      7.36     50.12     63.75   121.700    53.365       1  \n",
       "3    39.99     82.02      7.35     50.16     63.88   121.700    53.380       1  \n",
       "4    39.96     82.03      7.36     50.20     63.91   121.695    53.240       1  \n",
       "\n",
       "[5 rows x 501 columns]"
      ]
     },
     "execution_count": 34,
     "metadata": {},
     "output_type": "execute_result"
    }
   ],
   "source": [
    "df.head()"
   ]
  },
  {
   "cell_type": "code",
   "execution_count": 35,
   "metadata": {},
   "outputs": [
    {
     "data": {
      "text/plain": [
       "[1, 3, 4, 0, 2]"
      ]
     },
     "execution_count": 35,
     "metadata": {},
     "output_type": "execute_result"
    }
   ],
   "source": [
    "df['labels'].unique().tolist()"
   ]
  },
  {
   "cell_type": "code",
   "execution_count": 36,
   "metadata": {},
   "outputs": [
    {
     "name": "stdout",
     "output_type": "stream",
     "text": [
      "\n",
      "For lablel 1 the number of similar stock performances is : 5875 \n",
      "\n",
      "For lablel 3 the number of similar stock performances is : 8623 \n",
      "\n",
      "For lablel 4 the number of similar stock performances is : 11153 \n",
      "\n",
      "For lablel 0 the number of similar stock performances is : 5877 \n",
      "\n",
      "For lablel 2 the number of similar stock performances is : 9738 \n"
     ]
    }
   ],
   "source": [
    "for i in df['labels'].unique().tolist():\n",
    "    count = df[df['labels'] == i].shape[0]\n",
    "    print('\\nFor lablel {} the number of similar stock performances is : {} '.format(i, count))"
   ]
  },
  {
   "cell_type": "code",
   "execution_count": 37,
   "metadata": {},
   "outputs": [
    {
     "data": {
      "text/plain": [
       "SpectralClustering(affinity='nearest_neighbors', assign_labels='kmeans',\n",
       "                   coef0=1, degree=3, eigen_solver=None, eigen_tol=0.0,\n",
       "                   gamma=1.0, kernel_params=None, n_clusters=5,\n",
       "                   n_components=None, n_init=10, n_jobs=None, n_neighbors=10,\n",
       "                   random_state=None)"
      ]
     },
     "execution_count": 37,
     "metadata": {},
     "output_type": "execute_result"
    }
   ],
   "source": [
    "#fitting hierarchical clustering to dataset\n",
    "from sklearn.cluster import SpectralClustering\n",
    "h_clustering = SpectralClustering(n_clusters =5, affinity = 'nearest_neighbors')\n",
    "h_clustering.fit(X_transformed)"
   ]
  },
  {
   "cell_type": "code",
   "execution_count": 38,
   "metadata": {},
   "outputs": [
    {
     "data": {
      "text/plain": [
       "array([2, 2, 2, ..., 1, 1, 1])"
      ]
     },
     "execution_count": 38,
     "metadata": {},
     "output_type": "execute_result"
    }
   ],
   "source": [
    "h_clustering.fit_predict(X_transformed)"
   ]
  },
  {
   "cell_type": "code",
   "execution_count": 39,
   "metadata": {},
   "outputs": [],
   "source": [
    "y_labels = h_clustering.labels_"
   ]
  },
  {
   "cell_type": "code",
   "execution_count": 40,
   "metadata": {},
   "outputs": [
    {
     "data": {
      "text/plain": [
       "(41266, array([0, 1, 2, 3, 4]))"
      ]
     },
     "execution_count": 40,
     "metadata": {},
     "output_type": "execute_result"
    }
   ],
   "source": [
    "len(y_labels),np.unique(y_labels)"
   ]
  },
  {
   "cell_type": "code",
   "execution_count": 41,
   "metadata": {},
   "outputs": [
    {
     "data": {
      "image/png": "[encoded data removed]",
      "text/plain": [
       "<Figure size 432x288 with 1 Axes>"
      ]
     },
     "metadata": {},
     "output_type": "display_data"
    }
   ],
   "source": [
    "#visuallising the clusters\n",
    "X=X_transformed\n",
    "plt.scatter(X[y_labels == 0, 0], X[y_labels == 0, 1], s = 100, c = 'red', label = 'Cluster 1') \n",
    "plt.scatter(X[y_labels == 1, 0], X[y_labels == 1, 1], s = 100, c = 'blue', label = 'Cluster 2') \n",
    "plt.scatter(X[y_labels == 2, 0], X[y_labels == 2, 1], s = 100, c = 'green', label = 'Cluster 3')\n",
    "plt.scatter(X[y_labels == 3, 0], X[y_labels == 3, 1], s = 100, c = 'cyan', label = 'Cluster 4') \n",
    "plt.scatter(X[y_labels == 4, 0], X[y_labels == 4, 1], s = 100, c = 'magenta', label = 'Cluster 5') \n",
    "#plt.scatter(kmeans.cluster_centers_[:, 0], kmeans.cluster_centers_[:, 1], s = 300, c = 'yellow', label = 'Centroids') \n",
    "plt.title('Clusters of Costmores') \n",
    "plt.xlabel('Annual Income(k$)')\n",
    "plt.ylabel('Spending Score(1-100)') \n",
    "plt.legend() \n",
    "plt.show()"
   ]
  },
  {
   "cell_type": "code",
   "execution_count": 42,
   "metadata": {},
   "outputs": [
    {
     "name": "stdout",
     "output_type": "stream",
     "text": [
      "\n",
      " for label 2 the number of simillar stock performamnce is:19150\n",
      "\n",
      " for label 1 the number of simillar stock performamnce is:9336\n",
      "\n",
      " for label 0 the number of simillar stock performamnce is:9212\n",
      "\n",
      " for label 4 the number of simillar stock performamnce is:2577\n",
      "\n",
      " for label 3 the number of simillar stock performamnce is:991\n"
     ]
    }
   ],
   "source": [
    "df['labels'] = y_labels\n",
    "for i in df['labels'].unique().tolist():\n",
    "    count = df[df['labels']==i].shape[0]\n",
    "    print('\\n for label {} the number of simillar stock performamnce is:{}'.format(i,count))"
   ]
  },
  {
   "cell_type": "code",
   "execution_count": null,
   "metadata": {},
   "outputs": [],
   "source": []
  }
 ],
 "metadata": {
  "kernelspec": {
   "display_name": "Python 3",
   "language": "python",
   "name": "python3"
  },
  "language_info": {
   "codemirror_mode": {
    "name": "ipython",
    "version": 3
   },
   "file_extension": ".py",
   "mimetype": "text/x-python",
   "name": "python",
   "nbconvert_exporter": "python",
   "pygments_lexer": "ipython3",
   "version": "3.7.6"
  }
 },
 "nbformat": 4,
 "nbformat_minor": 4
}
